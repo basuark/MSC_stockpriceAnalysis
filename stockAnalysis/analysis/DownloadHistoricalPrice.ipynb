{
 "cells": [
  {
   "cell_type": "code",
   "execution_count": 1,
   "id": "277a27e4-2716-4080-9809-1930aed74cf8",
   "metadata": {},
   "outputs": [],
   "source": [
    "from Scripts import *"
   ]
  },
  {
   "cell_type": "code",
   "execution_count": 5,
   "id": "0707aa0c-4c5a-425b-9909-34400a25726b",
   "metadata": {},
   "outputs": [],
   "source": [
    "def save_file(df,name):\n",
    "    '''\n",
    "    This function takes input as dataframe and saves it to correct location in data folder\n",
    "\n",
    "    df - Dataframe to be saved\n",
    "    name - Desired (Folder / Filename) path  - No need to add extensions\n",
    "\n",
    "    Saves file as .csv format\n",
    "    '''\n",
    "    SAVE_DIR=DATA_HOME+'\\\\'+name\n",
    "    if os.path.isdir(SAVE_DIR)==False:\n",
    "        os.mkdir(SAVE_DIR)\n",
    "    df.to_csv(SAVE_DIR+'\\\\'+name+'.csv')\n",
    "    print(\"File \"+name+'.csv'+\" has been saved at path \"+SAVE_DIR )"
   ]
  },
  {
   "cell_type": "code",
   "execution_count": 6,
   "id": "858bfd12-ecc1-446b-97e1-107a9b6925a0",
   "metadata": {},
   "outputs": [
    {
     "data": {
      "text/html": [
       "<div>\n",
       "<style scoped>\n",
       "    .dataframe tbody tr th:only-of-type {\n",
       "        vertical-align: middle;\n",
       "    }\n",
       "\n",
       "    .dataframe tbody tr th {\n",
       "        vertical-align: top;\n",
       "    }\n",
       "\n",
       "    .dataframe thead th {\n",
       "        text-align: right;\n",
       "    }\n",
       "</style>\n",
       "<table border=\"1\" class=\"dataframe\">\n",
       "  <thead>\n",
       "    <tr style=\"text-align: right;\">\n",
       "      <th></th>\n",
       "      <th>Open</th>\n",
       "      <th>High</th>\n",
       "      <th>Low</th>\n",
       "      <th>Close</th>\n",
       "      <th>Volume</th>\n",
       "      <th>Dividends</th>\n",
       "      <th>Stock Splits</th>\n",
       "    </tr>\n",
       "    <tr>\n",
       "      <th>Date</th>\n",
       "      <th></th>\n",
       "      <th></th>\n",
       "      <th></th>\n",
       "      <th></th>\n",
       "      <th></th>\n",
       "      <th></th>\n",
       "      <th></th>\n",
       "    </tr>\n",
       "  </thead>\n",
       "  <tbody>\n",
       "    <tr>\n",
       "      <th>2014-03-04</th>\n",
       "      <td>875.041150</td>\n",
       "      <td>882.256099</td>\n",
       "      <td>866.809343</td>\n",
       "      <td>871.167358</td>\n",
       "      <td>74965</td>\n",
       "      <td>0.0</td>\n",
       "      <td>0</td>\n",
       "    </tr>\n",
       "    <tr>\n",
       "      <th>2014-03-05</th>\n",
       "      <td>874.411628</td>\n",
       "      <td>883.999227</td>\n",
       "      <td>874.411628</td>\n",
       "      <td>878.818054</td>\n",
       "      <td>161162</td>\n",
       "      <td>0.0</td>\n",
       "      <td>0</td>\n",
       "    </tr>\n",
       "    <tr>\n",
       "      <th>2014-03-06</th>\n",
       "      <td>879.834958</td>\n",
       "      <td>885.064601</td>\n",
       "      <td>867.874650</td>\n",
       "      <td>870.005188</td>\n",
       "      <td>117509</td>\n",
       "      <td>0.0</td>\n",
       "      <td>0</td>\n",
       "    </tr>\n",
       "    <tr>\n",
       "      <th>2014-03-07</th>\n",
       "      <td>879.350747</td>\n",
       "      <td>879.350747</td>\n",
       "      <td>857.076444</td>\n",
       "      <td>859.158630</td>\n",
       "      <td>121701</td>\n",
       "      <td>0.0</td>\n",
       "      <td>0</td>\n",
       "    </tr>\n",
       "    <tr>\n",
       "      <th>2014-03-10</th>\n",
       "      <td>860.950298</td>\n",
       "      <td>861.289231</td>\n",
       "      <td>837.707545</td>\n",
       "      <td>844.874084</td>\n",
       "      <td>141440</td>\n",
       "      <td>0.0</td>\n",
       "      <td>0</td>\n",
       "    </tr>\n",
       "  </tbody>\n",
       "</table>\n",
       "</div>"
      ],
      "text/plain": [
       "                  Open        High         Low       Close  Volume  Dividends  \\\n",
       "Date                                                                            \n",
       "2014-03-04  875.041150  882.256099  866.809343  871.167358   74965        0.0   \n",
       "2014-03-05  874.411628  883.999227  874.411628  878.818054  161162        0.0   \n",
       "2014-03-06  879.834958  885.064601  867.874650  870.005188  117509        0.0   \n",
       "2014-03-07  879.350747  879.350747  857.076444  859.158630  121701        0.0   \n",
       "2014-03-10  860.950298  861.289231  837.707545  844.874084  141440        0.0   \n",
       "\n",
       "            Stock Splits  \n",
       "Date                      \n",
       "2014-03-04             0  \n",
       "2014-03-05             0  \n",
       "2014-03-06             0  \n",
       "2014-03-07             0  \n",
       "2014-03-10             0  "
      ]
     },
     "execution_count": 6,
     "metadata": {},
     "output_type": "execute_result"
    }
   ],
   "source": [
    "apollohosp=download_price_history('APOLLOHOSP.NS')\n",
    "apollohosp.head()"
   ]
  },
  {
   "cell_type": "code",
   "execution_count": 7,
   "id": "09b89b98-bf7e-4c09-82ea-ce8b0ce6d101",
   "metadata": {},
   "outputs": [
    {
     "name": "stdout",
     "output_type": "stream",
     "text": [
      "File apollohosp.csv has been saved at path E:\\Msc\\LabTest\\stockAnalysis\\datab\\apollohosp\n"
     ]
    }
   ],
   "source": [
    "save_file(apollohosp,'apollohosp')"
   ]
  },
  {
   "cell_type": "code",
   "execution_count": 8,
   "id": "b19ce77b-ba89-4dc3-919c-938148d095fc",
   "metadata": {},
   "outputs": [
    {
     "name": "stdout",
     "output_type": "stream",
     "text": [
      "File dabur.csv has been saved at path E:\\Msc\\LabTest\\stockAnalysis\\datab\\dabur\n"
     ]
    }
   ],
   "source": [
    "dabur=download_price_history('DABUR.NS')\n",
    "save_file(dabur,'dabur')"
   ]
  },
  {
   "cell_type": "code",
   "execution_count": 9,
   "id": "c7bb206d-07ca-4967-8169-355defba60c3",
   "metadata": {},
   "outputs": [
    {
     "name": "stdout",
     "output_type": "stream",
     "text": [
      "File maruti.csv has been saved at path E:\\Msc\\LabTest\\stockAnalysis\\datab\\maruti\n"
     ]
    }
   ],
   "source": [
    "maruti=download_price_history('MARUTI.NS')\n",
    "save_file(maruti,'maruti')"
   ]
  },
  {
   "cell_type": "code",
   "execution_count": 10,
   "id": "577d26d6-9b4f-4aaa-b203-f508bb36e75d",
   "metadata": {},
   "outputs": [
    {
     "name": "stdout",
     "output_type": "stream",
     "text": [
      "File tcs.csv has been saved at path E:\\Msc\\LabTest\\stockAnalysis\\datab\\tcs\n"
     ]
    }
   ],
   "source": [
    "tcs=download_price_history('TCS.NS')\n",
    "save_file(tcs,'tcs')"
   ]
  },
  {
   "cell_type": "code",
   "execution_count": null,
   "id": "08ddb50e-ed1f-4029-8ab3-b09fcda07805",
   "metadata": {},
   "outputs": [],
   "source": []
  },
  {
   "cell_type": "code",
   "execution_count": null,
   "id": "8ea28d73-657f-47b5-9795-bbe44465f2ff",
   "metadata": {},
   "outputs": [],
   "source": []
  }
 ],
 "metadata": {
  "kernelspec": {
   "display_name": "Python 3 (ipykernel)",
   "language": "python",
   "name": "python3"
  },
  "language_info": {
   "codemirror_mode": {
    "name": "ipython",
    "version": 3
   },
   "file_extension": ".py",
   "mimetype": "text/x-python",
   "name": "python",
   "nbconvert_exporter": "python",
   "pygments_lexer": "ipython3",
   "version": "3.10.0"
  }
 },
 "nbformat": 4,
 "nbformat_minor": 5
}
