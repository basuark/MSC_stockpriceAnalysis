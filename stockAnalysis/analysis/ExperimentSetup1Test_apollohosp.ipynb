{
 "cells": [
  {
   "cell_type": "code",
   "execution_count": 1,
   "id": "f43bfa55-61bd-4ead-bbf6-bb6307e34c6d",
   "metadata": {},
   "outputs": [],
   "source": [
    "import tensorflow as tf\n",
    "import pandas as pd\n",
    "import matplotlib.pyplot as plt\n",
    "import numpy as np"
   ]
  },
  {
   "cell_type": "code",
   "execution_count": 2,
   "id": "a8ff94f1-1004-4d02-b648-19a4f8fa6f28",
   "metadata": {},
   "outputs": [
    {
     "name": "stdout",
     "output_type": "stream",
     "text": [
      "E:\\Msc\\LabTest\\stockAnalysis\\datab\n"
     ]
    }
   ],
   "source": [
    "from Scripts import *\n",
    "print(DATA_HOME)"
   ]
  },
  {
   "cell_type": "code",
   "execution_count": 3,
   "id": "575df3d2-496c-4522-aaf2-c96c1e5e60ec",
   "metadata": {},
   "outputs": [
    {
     "data": {
      "text/html": [
       "<div>\n",
       "<style scoped>\n",
       "    .dataframe tbody tr th:only-of-type {\n",
       "        vertical-align: middle;\n",
       "    }\n",
       "\n",
       "    .dataframe tbody tr th {\n",
       "        vertical-align: top;\n",
       "    }\n",
       "\n",
       "    .dataframe thead th {\n",
       "        text-align: right;\n",
       "    }\n",
       "</style>\n",
       "<table border=\"1\" class=\"dataframe\">\n",
       "  <thead>\n",
       "    <tr style=\"text-align: right;\">\n",
       "      <th></th>\n",
       "      <th>Date</th>\n",
       "      <th>FibonacciLevels</th>\n",
       "      <th>PBDT</th>\n",
       "      <th>RSI</th>\n",
       "      <th>macd</th>\n",
       "      <th>Volume</th>\n",
       "      <th>EPS (Rs)</th>\n",
       "      <th>CI</th>\n",
       "    </tr>\n",
       "  </thead>\n",
       "  <tbody>\n",
       "    <tr>\n",
       "      <th>0</th>\n",
       "      <td>2016-01-01</td>\n",
       "      <td>1416.966919</td>\n",
       "      <td>73.0</td>\n",
       "      <td>64.077246</td>\n",
       "      <td>27.112706</td>\n",
       "      <td>107024</td>\n",
       "      <td>5.23</td>\n",
       "      <td>56.635556</td>\n",
       "    </tr>\n",
       "    <tr>\n",
       "      <th>1</th>\n",
       "      <td>2016-01-04</td>\n",
       "      <td>1413.055129</td>\n",
       "      <td>73.0</td>\n",
       "      <td>60.422239</td>\n",
       "      <td>25.887594</td>\n",
       "      <td>121226</td>\n",
       "      <td>5.23</td>\n",
       "      <td>59.080965</td>\n",
       "    </tr>\n",
       "    <tr>\n",
       "      <th>2</th>\n",
       "      <td>2016-01-05</td>\n",
       "      <td>1464.590068</td>\n",
       "      <td>73.0</td>\n",
       "      <td>64.203471</td>\n",
       "      <td>26.068095</td>\n",
       "      <td>667535</td>\n",
       "      <td>5.23</td>\n",
       "      <td>52.770482</td>\n",
       "    </tr>\n",
       "    <tr>\n",
       "      <th>3</th>\n",
       "      <td>2016-01-06</td>\n",
       "      <td>1447.281599</td>\n",
       "      <td>73.0</td>\n",
       "      <td>59.805908</td>\n",
       "      <td>24.886641</td>\n",
       "      <td>233987</td>\n",
       "      <td>5.23</td>\n",
       "      <td>57.806178</td>\n",
       "    </tr>\n",
       "    <tr>\n",
       "      <th>4</th>\n",
       "      <td>2016-01-07</td>\n",
       "      <td>1417.944733</td>\n",
       "      <td>73.0</td>\n",
       "      <td>44.991438</td>\n",
       "      <td>19.098288</td>\n",
       "      <td>184861</td>\n",
       "      <td>5.23</td>\n",
       "      <td>54.026040</td>\n",
       "    </tr>\n",
       "  </tbody>\n",
       "</table>\n",
       "</div>"
      ],
      "text/plain": [
       "         Date  FibonacciLevels  PBDT        RSI       macd  Volume  EPS (Rs)  \\\n",
       "0  2016-01-01      1416.966919  73.0  64.077246  27.112706  107024      5.23   \n",
       "1  2016-01-04      1413.055129  73.0  60.422239  25.887594  121226      5.23   \n",
       "2  2016-01-05      1464.590068  73.0  64.203471  26.068095  667535      5.23   \n",
       "3  2016-01-06      1447.281599  73.0  59.805908  24.886641  233987      5.23   \n",
       "4  2016-01-07      1417.944733  73.0  44.991438  19.098288  184861      5.23   \n",
       "\n",
       "          CI  \n",
       "0  56.635556  \n",
       "1  59.080965  \n",
       "2  52.770482  \n",
       "3  57.806178  \n",
       "4  54.026040  "
      ]
     },
     "execution_count": 3,
     "metadata": {},
     "output_type": "execute_result"
    }
   ],
   "source": [
    "# Read Data \n",
    "apollohosp = pd.read_csv(DATA_HOME+'\\\\apollohosp\\\\apollohosp_expsetup2.csv')\n",
    "apollohosp.head()"
   ]
  },
  {
   "cell_type": "code",
   "execution_count": 4,
   "id": "08ad7dc8-6d6e-4c58-9410-eeefe9057eb0",
   "metadata": {},
   "outputs": [
    {
     "data": {
      "text/html": [
       "<div>\n",
       "<style scoped>\n",
       "    .dataframe tbody tr th:only-of-type {\n",
       "        vertical-align: middle;\n",
       "    }\n",
       "\n",
       "    .dataframe tbody tr th {\n",
       "        vertical-align: top;\n",
       "    }\n",
       "\n",
       "    .dataframe thead th {\n",
       "        text-align: right;\n",
       "    }\n",
       "</style>\n",
       "<table border=\"1\" class=\"dataframe\">\n",
       "  <thead>\n",
       "    <tr style=\"text-align: right;\">\n",
       "      <th></th>\n",
       "      <th>FibonacciLevels</th>\n",
       "      <th>PBDT</th>\n",
       "      <th>RSI</th>\n",
       "      <th>macd</th>\n",
       "      <th>Volume</th>\n",
       "      <th>EPS (Rs)</th>\n",
       "      <th>CI</th>\n",
       "    </tr>\n",
       "    <tr>\n",
       "      <th>Date</th>\n",
       "      <th></th>\n",
       "      <th></th>\n",
       "      <th></th>\n",
       "      <th></th>\n",
       "      <th></th>\n",
       "      <th></th>\n",
       "      <th></th>\n",
       "    </tr>\n",
       "  </thead>\n",
       "  <tbody>\n",
       "    <tr>\n",
       "      <th>2016-01-01</th>\n",
       "      <td>1416.966919</td>\n",
       "      <td>73.0</td>\n",
       "      <td>64.077246</td>\n",
       "      <td>27.112706</td>\n",
       "      <td>107024</td>\n",
       "      <td>5.23</td>\n",
       "      <td>56.635556</td>\n",
       "    </tr>\n",
       "    <tr>\n",
       "      <th>2016-01-04</th>\n",
       "      <td>1413.055129</td>\n",
       "      <td>73.0</td>\n",
       "      <td>60.422239</td>\n",
       "      <td>25.887594</td>\n",
       "      <td>121226</td>\n",
       "      <td>5.23</td>\n",
       "      <td>59.080965</td>\n",
       "    </tr>\n",
       "    <tr>\n",
       "      <th>2016-01-05</th>\n",
       "      <td>1464.590068</td>\n",
       "      <td>73.0</td>\n",
       "      <td>64.203471</td>\n",
       "      <td>26.068095</td>\n",
       "      <td>667535</td>\n",
       "      <td>5.23</td>\n",
       "      <td>52.770482</td>\n",
       "    </tr>\n",
       "    <tr>\n",
       "      <th>2016-01-06</th>\n",
       "      <td>1447.281599</td>\n",
       "      <td>73.0</td>\n",
       "      <td>59.805908</td>\n",
       "      <td>24.886641</td>\n",
       "      <td>233987</td>\n",
       "      <td>5.23</td>\n",
       "      <td>57.806178</td>\n",
       "    </tr>\n",
       "    <tr>\n",
       "      <th>2016-01-07</th>\n",
       "      <td>1417.944733</td>\n",
       "      <td>73.0</td>\n",
       "      <td>44.991438</td>\n",
       "      <td>19.098288</td>\n",
       "      <td>184861</td>\n",
       "      <td>5.23</td>\n",
       "      <td>54.026040</td>\n",
       "    </tr>\n",
       "  </tbody>\n",
       "</table>\n",
       "</div>"
      ],
      "text/plain": [
       "            FibonacciLevels  PBDT        RSI       macd  Volume  EPS (Rs)  \\\n",
       "Date                                                                        \n",
       "2016-01-01      1416.966919  73.0  64.077246  27.112706  107024      5.23   \n",
       "2016-01-04      1413.055129  73.0  60.422239  25.887594  121226      5.23   \n",
       "2016-01-05      1464.590068  73.0  64.203471  26.068095  667535      5.23   \n",
       "2016-01-06      1447.281599  73.0  59.805908  24.886641  233987      5.23   \n",
       "2016-01-07      1417.944733  73.0  44.991438  19.098288  184861      5.23   \n",
       "\n",
       "                   CI  \n",
       "Date                   \n",
       "2016-01-01  56.635556  \n",
       "2016-01-04  59.080965  \n",
       "2016-01-05  52.770482  \n",
       "2016-01-06  57.806178  \n",
       "2016-01-07  54.026040  "
      ]
     },
     "execution_count": 4,
     "metadata": {},
     "output_type": "execute_result"
    }
   ],
   "source": [
    "apollohosp['Date'] = pd.to_datetime(apollohosp['Date'],format='%Y-%m-%d')\n",
    "apollohosp = apollohosp.set_index('Date')\n",
    "apollohosp.head()"
   ]
  },
  {
   "cell_type": "code",
   "execution_count": 5,
   "id": "943e348f-a20e-46d4-b067-a41e7407a5cc",
   "metadata": {},
   "outputs": [
    {
     "data": {
      "image/png": "[encoded data removed]",
      "text/plain": [
       "<Figure size 720x2160 with 7 Axes>"
      ]
     },
     "metadata": {
      "needs_background": "light"
     },
     "output_type": "display_data"
    },
    {
     "name": "stdout",
     "output_type": "stream",
     "text": [
      "2021-11-30 00:00:00 2016-01-01 00:00:00\n"
     ]
    }
   ],
   "source": [
    "plt.figure(figsize=(10,30))\n",
    "for i,j in enumerate(apollohosp.columns):\n",
    "    plt.subplot(7,1,i+1)\n",
    "    plt.plot(apollohosp[j])\n",
    "    plt.title(j)\n",
    "plt.show()\n",
    "print(apollohosp.index.max(),apollohosp.index.min())"
   ]
  },
  {
   "cell_type": "code",
   "execution_count": 6,
   "id": "d534d2a4-d206-452d-ba11-bdacf337c98f",
   "metadata": {},
   "outputs": [],
   "source": [
    "from sklearn.preprocessing import MinMaxScaler"
   ]
  },
  {
   "cell_type": "code",
   "execution_count": 7,
   "id": "7cd8588c-e2bc-4017-9e26-9944a646e9dd",
   "metadata": {},
   "outputs": [
    {
     "data": {
      "text/html": [
       "<div>\n",
       "<style scoped>\n",
       "    .dataframe tbody tr th:only-of-type {\n",
       "        vertical-align: middle;\n",
       "    }\n",
       "\n",
       "    .dataframe tbody tr th {\n",
       "        vertical-align: top;\n",
       "    }\n",
       "\n",
       "    .dataframe thead th {\n",
       "        text-align: right;\n",
       "    }\n",
       "</style>\n",
       "<table border=\"1\" class=\"dataframe\">\n",
       "  <thead>\n",
       "    <tr style=\"text-align: right;\">\n",
       "      <th></th>\n",
       "      <th>FibonacciLevels</th>\n",
       "      <th>PBDT</th>\n",
       "      <th>RSI</th>\n",
       "      <th>macd</th>\n",
       "      <th>Volume</th>\n",
       "      <th>EPS (Rs)</th>\n",
       "      <th>CI</th>\n",
       "    </tr>\n",
       "    <tr>\n",
       "      <th>Date</th>\n",
       "      <th></th>\n",
       "      <th></th>\n",
       "      <th></th>\n",
       "      <th></th>\n",
       "      <th></th>\n",
       "      <th></th>\n",
       "      <th></th>\n",
       "    </tr>\n",
       "  </thead>\n",
       "  <tbody>\n",
       "    <tr>\n",
       "      <th>2016-01-01</th>\n",
       "      <td>0.102895</td>\n",
       "      <td>0.049117</td>\n",
       "      <td>0.698908</td>\n",
       "      <td>0.355600</td>\n",
       "      <td>0.008037</td>\n",
       "      <td>0.62549</td>\n",
       "      <td>0.615202</td>\n",
       "    </tr>\n",
       "    <tr>\n",
       "      <th>2016-01-04</th>\n",
       "      <td>0.102118</td>\n",
       "      <td>0.049117</td>\n",
       "      <td>0.648042</td>\n",
       "      <td>0.353067</td>\n",
       "      <td>0.009275</td>\n",
       "      <td>0.62549</td>\n",
       "      <td>0.646230</td>\n",
       "    </tr>\n",
       "    <tr>\n",
       "      <th>2016-01-05</th>\n",
       "      <td>0.112350</td>\n",
       "      <td>0.049117</td>\n",
       "      <td>0.700664</td>\n",
       "      <td>0.353440</td>\n",
       "      <td>0.056877</td>\n",
       "      <td>0.62549</td>\n",
       "      <td>0.566160</td>\n",
       "    </tr>\n",
       "    <tr>\n",
       "      <th>2016-01-06</th>\n",
       "      <td>0.108914</td>\n",
       "      <td>0.049117</td>\n",
       "      <td>0.639465</td>\n",
       "      <td>0.350998</td>\n",
       "      <td>0.019100</td>\n",
       "      <td>0.62549</td>\n",
       "      <td>0.630055</td>\n",
       "    </tr>\n",
       "    <tr>\n",
       "      <th>2016-01-07</th>\n",
       "      <td>0.103089</td>\n",
       "      <td>0.049117</td>\n",
       "      <td>0.433295</td>\n",
       "      <td>0.339033</td>\n",
       "      <td>0.014820</td>\n",
       "      <td>0.62549</td>\n",
       "      <td>0.582091</td>\n",
       "    </tr>\n",
       "  </tbody>\n",
       "</table>\n",
       "</div>"
      ],
      "text/plain": [
       "            FibonacciLevels      PBDT       RSI      macd    Volume  EPS (Rs)  \\\n",
       "Date                                                                            \n",
       "2016-01-01         0.102895  0.049117  0.698908  0.355600  0.008037   0.62549   \n",
       "2016-01-04         0.102118  0.049117  0.648042  0.353067  0.009275   0.62549   \n",
       "2016-01-05         0.112350  0.049117  0.700664  0.353440  0.056877   0.62549   \n",
       "2016-01-06         0.108914  0.049117  0.639465  0.350998  0.019100   0.62549   \n",
       "2016-01-07         0.103089  0.049117  0.433295  0.339033  0.014820   0.62549   \n",
       "\n",
       "                  CI  \n",
       "Date                  \n",
       "2016-01-01  0.615202  \n",
       "2016-01-04  0.646230  \n",
       "2016-01-05  0.566160  \n",
       "2016-01-06  0.630055  \n",
       "2016-01-07  0.582091  "
      ]
     },
     "execution_count": 7,
     "metadata": {},
     "output_type": "execute_result"
    }
   ],
   "source": [
    "scaler = MinMaxScaler()\n",
    "apollohosp_norm = scaler.fit_transform(apollohosp)\n",
    "\n",
    "apollohosp_df = pd.DataFrame(apollohosp_norm,columns=apollohosp.columns,index=apollohosp.index)\n",
    "apollohosp_df.head()"
   ]
  },
  {
   "cell_type": "code",
   "execution_count": 8,
   "id": "cbfe013b-854c-45b4-b8f6-3be3a2ce95ab",
   "metadata": {},
   "outputs": [],
   "source": [
    "apollohosp_train =apollohosp_df['2016-01-01':'2021-05-31']\n",
    "apollohosp_val =apollohosp_df['2021-07-01':'2021-09-30']\n",
    "apollohosp_test =apollohosp_df['2021-10-01':]"
   ]
  },
  {
   "cell_type": "code",
   "execution_count": 9,
   "id": "74eda1b0-e20b-4eda-bd5b-f089349d1fe4",
   "metadata": {},
   "outputs": [
    {
     "data": {
      "text/plain": [
       "((1334, 7), (63, 7), (40, 7))"
      ]
     },
     "execution_count": 9,
     "metadata": {},
     "output_type": "execute_result"
    }
   ],
   "source": [
    "apollohosp_train.shape,apollohosp_val.shape,apollohosp_test.shape"
   ]
  },
  {
   "cell_type": "code",
   "execution_count": 12,
   "id": "a85367a3-97a0-4f12-b28a-6117886eac89",
   "metadata": {},
   "outputs": [],
   "source": [
    "# creating data set in timeseries\n",
    "def XY_split(datadf,timestep):\n",
    "    X=[]\n",
    "    y=[]\n",
    "    for i in range(len(datadf)-1-(timestep)):\n",
    "        X.append(datadf[i:i+timestep])\n",
    "        y.append(datadf[i+timestep:i+timestep+1]['FibonacciLevels'])\n",
    "    return np.array(X),np.array(y)"
   ]
  },
  {
   "cell_type": "code",
   "execution_count": 13,
   "id": "d53f33b5-9b9c-4853-b9e2-28f96b1770c7",
   "metadata": {},
   "outputs": [],
   "source": [
    "X_train,y_train = XY_split(apollohosp_train,timestep=28)\n",
    "X_val,y_val=XY_split(apollohosp_val,timestep=28)\n",
    "X_test,y_test=XY_split(apollohosp_test,timestep=28)"
   ]
  },
  {
   "cell_type": "code",
   "execution_count": 14,
   "id": "372e8d6f-d4a8-479d-b65d-23fcec701b7f",
   "metadata": {},
   "outputs": [],
   "source": [
    "n,m,k =X_train.shape\n",
    "X_train = X_train.reshape(n,m*k)\n",
    "y_train=y_train[:,0]\n",
    "\n"
   ]
  },
  {
   "cell_type": "code",
   "execution_count": 15,
   "id": "5e9a340a-f0ea-428b-b618-969bebc29595",
   "metadata": {},
   "outputs": [],
   "source": [
    "n,m,k =X_val.shape\n",
    "X_val = X_val.reshape(n,m*k)\n",
    "y_val=y_val[:,0]"
   ]
  },
  {
   "cell_type": "code",
   "execution_count": 16,
   "id": "6d174d6e-46f7-4a01-9e8a-6afe3348fc9b",
   "metadata": {},
   "outputs": [],
   "source": [
    "n,m,k =X_test.shape\n",
    "X_test = X_test.reshape(n,m*k)\n",
    "y_test=y_test[:,0]"
   ]
  },
  {
   "cell_type": "code",
   "execution_count": 17,
   "id": "b0193e61-0306-4aa0-aa72-c5267ccf6a45",
   "metadata": {},
   "outputs": [
    {
     "data": {
      "text/plain": [
       "((1305, 196), (1305,))"
      ]
     },
     "execution_count": 17,
     "metadata": {},
     "output_type": "execute_result"
    }
   ],
   "source": [
    "X_train.shape,y_train.shape"
   ]
  },
  {
   "cell_type": "code",
   "execution_count": 49,
   "id": "7f1e1c32-564c-49c4-a3d9-4d4557aa42ea",
   "metadata": {},
   "outputs": [
    {
     "name": "stdout",
     "output_type": "stream",
     "text": [
      "Epoch 1/20\n",
      "41/41 [==============================] - 4s 66ms/step - loss: 0.5892 - mse: 0.3781 - val_loss: 0.9809 - val_mse: 0.9745\n",
      "Epoch 2/20\n",
      "41/41 [==============================] - 2s 55ms/step - loss: 0.2932 - mse: 0.1090 - val_loss: 0.8002 - val_mse: 0.6519\n",
      "Epoch 3/20\n",
      "41/41 [==============================] - 2s 56ms/step - loss: 0.1291 - mse: 0.0295 - val_loss: 0.6941 - val_mse: 0.4931\n",
      "Epoch 4/20\n",
      "41/41 [==============================] - 2s 54ms/step - loss: 0.0966 - mse: 0.0186 - val_loss: 0.6666 - val_mse: 0.4555\n",
      "Epoch 5/20\n",
      "41/41 [==============================] - 2s 57ms/step - loss: 0.0943 - mse: 0.0175 - val_loss: 0.6605 - val_mse: 0.4473\n",
      "Epoch 6/20\n",
      "41/41 [==============================] - 2s 56ms/step - loss: 0.0936 - mse: 0.0172 - val_loss: 0.6581 - val_mse: 0.4440\n",
      "Epoch 7/20\n",
      "41/41 [==============================] - 2s 57ms/step - loss: 0.0929 - mse: 0.0169 - val_loss: 0.6570 - val_mse: 0.4425\n",
      "Epoch 8/20\n",
      "41/41 [==============================] - 2s 55ms/step - loss: 0.0923 - mse: 0.0167 - val_loss: 0.6550 - val_mse: 0.4398\n",
      "Epoch 9/20\n",
      "41/41 [==============================] - 2s 56ms/step - loss: 0.0916 - mse: 0.0164 - val_loss: 0.6540 - val_mse: 0.4383\n",
      "Epoch 10/20\n",
      "41/41 [==============================] - 2s 55ms/step - loss: 0.0909 - mse: 0.0162 - val_loss: 0.6529 - val_mse: 0.4368\n",
      "Epoch 11/20\n",
      "41/41 [==============================] - 2s 55ms/step - loss: 0.0903 - mse: 0.0160 - val_loss: 0.6501 - val_mse: 0.4331\n",
      "Epoch 12/20\n",
      "41/41 [==============================] - 2s 57ms/step - loss: 0.0897 - mse: 0.0158 - val_loss: 0.6467 - val_mse: 0.4286\n",
      "Epoch 13/20\n",
      "41/41 [==============================] - 2s 58ms/step - loss: 0.0891 - mse: 0.0156 - val_loss: 0.6443 - val_mse: 0.4254\n",
      "Epoch 14/20\n",
      "41/41 [==============================] - 3s 66ms/step - loss: 0.0884 - mse: 0.0153 - val_loss: 0.6423 - val_mse: 0.4228\n",
      "Epoch 15/20\n",
      "41/41 [==============================] - 3s 63ms/step - loss: 0.0878 - mse: 0.0151 - val_loss: 0.6398 - val_mse: 0.4195\n",
      "Epoch 16/20\n",
      "41/41 [==============================] - 3s 67ms/step - loss: 0.0872 - mse: 0.0149 - val_loss: 0.6395 - val_mse: 0.4190\n",
      "Epoch 17/20\n",
      "41/41 [==============================] - 3s 62ms/step - loss: 0.0866 - mse: 0.0148 - val_loss: 0.6351 - val_mse: 0.4133\n",
      "Epoch 18/20\n",
      "41/41 [==============================] - 3s 64ms/step - loss: 0.0860 - mse: 0.0145 - val_loss: 0.6344 - val_mse: 0.4123\n",
      "Epoch 19/20\n",
      "41/41 [==============================] - 3s 62ms/step - loss: 0.0855 - mse: 0.0143 - val_loss: 0.6336 - val_mse: 0.4113\n",
      "Epoch 20/20\n",
      "41/41 [==============================] - 3s 63ms/step - loss: 0.0849 - mse: 0.0142 - val_loss: 0.6301 - val_mse: 0.4068\n"
     ]
    }
   ],
   "source": [
    "# Create Random seed\n",
    "tf.random.set_seed(42)\n",
    "\n",
    "# Create 1st Model\n",
    "model_RNN1 = tf.keras.Sequential([\n",
    "    tf.keras.layers.InputLayer(input_shape=(X_train.shape[1],1),name='InputLayer'),\n",
    "    #tf.keras.layers.Dense(196,activation='relu',input_shape=(X_train.shape[1],1)),\n",
    "    tf.keras.layers.SimpleRNN(50),\n",
    "    tf.keras.layers.Dense(1)\n",
    "])\n",
    "\n",
    "\n",
    "\n",
    "# Compile the model\n",
    "model_RNN1.compile(loss=tf.keras.losses.mae,\n",
    "                   optimizer=tf.keras.optimizers.SGD(learning_rate=0.0001),\n",
    "                   metrics=['mse'])\n",
    "\n",
    "# Model summary\n",
    "\n",
    "history_model_RNN1 = model_RNN1.fit(X_train,y_train,epochs=20,validation_data=(X_val,y_val))"
   ]
  },
  {
   "cell_type": "code",
   "execution_count": 46,
   "id": "6c2663e4-5c66-4cb7-b8be-7378fd2ba80b",
   "metadata": {},
   "outputs": [
    {
     "name": "stdout",
     "output_type": "stream",
     "text": [
      "Model: \"sequential_9\"\n",
      "_________________________________________________________________\n",
      " Layer (type)                Output Shape              Param #   \n",
      "=================================================================\n",
      " simple_rnn_9 (SimpleRNN)    (None, 50)                2600      \n",
      "                                                                 \n",
      " dense_9 (Dense)             (None, 1)                 51        \n",
      "                                                                 \n",
      "=================================================================\n",
      "Total params: 2,651\n",
      "Trainable params: 2,651\n",
      "Non-trainable params: 0\n",
      "_________________________________________________________________\n"
     ]
    }
   ],
   "source": [
    "model_RNN1.summary()\n"
   ]
  },
  {
   "cell_type": "code",
   "execution_count": 50,
   "id": "5df6a3aa-6f16-46f6-8740-1ee39da5bde5",
   "metadata": {},
   "outputs": [
    {
     "data": {
      "text/plain": [
       "<AxesSubplot:title={'center':'Train and Validation Loss for SGD at learning rate 0.0001'}>"
      ]
     },
     "execution_count": 50,
     "metadata": {},
     "output_type": "execute_result"
    },
    {
     "data": {
      "image/png": "[encoded data removed]",
      "text/plain": [
       "<Figure size 432x288 with 1 Axes>"
      ]
     },
     "metadata": {
      "needs_background": "light"
     },
     "output_type": "display_data"
    }
   ],
   "source": [
    "# Plotting the Training process\n",
    "pd.DataFrame(history_model_RNN1.history).plot(title=\"Train and Validation Loss for SGD at learning rate 0.0001\")"
   ]
  },
  {
   "cell_type": "code",
   "execution_count": 51,
   "id": "c18b7098-44fa-488d-a472-f822d03b2e15",
   "metadata": {},
   "outputs": [
    {
     "name": "stdout",
     "output_type": "stream",
     "text": [
      "Epoch 1/20\n",
      "41/41 [==============================] - 4s 72ms/step - loss: 0.2854 - mse: 0.1402 - val_loss: 0.6108 - val_mse: 0.3831\n",
      "Epoch 2/20\n",
      "41/41 [==============================] - 2s 56ms/step - loss: 0.0866 - mse: 0.0145 - val_loss: 0.6399 - val_mse: 0.4180\n",
      "Epoch 3/20\n",
      "41/41 [==============================] - 2s 57ms/step - loss: 0.0759 - mse: 0.0118 - val_loss: 0.6005 - val_mse: 0.3677\n",
      "Epoch 4/20\n",
      "41/41 [==============================] - 2s 54ms/step - loss: 0.0660 - mse: 0.0093 - val_loss: 0.5436 - val_mse: 0.3012\n",
      "Epoch 5/20\n",
      "41/41 [==============================] - 2s 53ms/step - loss: 0.0551 - mse: 0.0066 - val_loss: 0.4583 - val_mse: 0.2144\n",
      "Epoch 6/20\n",
      "41/41 [==============================] - 2s 57ms/step - loss: 0.0457 - mse: 0.0047 - val_loss: 0.4228 - val_mse: 0.1820\n",
      "Epoch 7/20\n",
      "41/41 [==============================] - 3s 64ms/step - loss: 0.0381 - mse: 0.0035 - val_loss: 0.3812 - val_mse: 0.1479\n",
      "Epoch 8/20\n",
      "41/41 [==============================] - 2s 60ms/step - loss: 0.0352 - mse: 0.0027 - val_loss: 0.3305 - val_mse: 0.1115\n",
      "Epoch 9/20\n",
      "41/41 [==============================] - 2s 60ms/step - loss: 0.0282 - mse: 0.0019 - val_loss: 0.2898 - val_mse: 0.0860\n",
      "Epoch 10/20\n",
      "41/41 [==============================] - 2s 59ms/step - loss: 0.0261 - mse: 0.0015 - val_loss: 0.2448 - val_mse: 0.0619\n",
      "Epoch 11/20\n",
      "41/41 [==============================] - 2s 60ms/step - loss: 0.0218 - mse: 0.0010 - val_loss: 0.1948 - val_mse: 0.0398\n",
      "Epoch 12/20\n",
      "41/41 [==============================] - 3s 65ms/step - loss: 0.0201 - mse: 8.0659e-04 - val_loss: 0.1544 - val_mse: 0.0257\n",
      "Epoch 13/20\n",
      "41/41 [==============================] - 3s 65ms/step - loss: 0.0202 - mse: 7.4147e-04 - val_loss: 0.1469 - val_mse: 0.0234\n",
      "Epoch 14/20\n",
      "41/41 [==============================] - 3s 64ms/step - loss: 0.0168 - mse: 5.3432e-04 - val_loss: 0.1269 - val_mse: 0.0179\n",
      "Epoch 15/20\n",
      "41/41 [==============================] - 3s 64ms/step - loss: 0.0155 - mse: 4.6074e-04 - val_loss: 0.1259 - val_mse: 0.0175\n",
      "Epoch 16/20\n",
      "41/41 [==============================] - 3s 64ms/step - loss: 0.0159 - mse: 4.6223e-04 - val_loss: 0.1004 - val_mse: 0.0117\n",
      "Epoch 17/20\n",
      "41/41 [==============================] - 3s 63ms/step - loss: 0.0144 - mse: 3.8909e-04 - val_loss: 0.0942 - val_mse: 0.0104\n",
      "Epoch 18/20\n",
      "41/41 [==============================] - 3s 63ms/step - loss: 0.0138 - mse: 3.5465e-04 - val_loss: 0.0889 - val_mse: 0.0094\n",
      "Epoch 19/20\n",
      "41/41 [==============================] - 3s 65ms/step - loss: 0.0135 - mse: 3.4394e-04 - val_loss: 0.1001 - val_mse: 0.0115\n",
      "Epoch 20/20\n",
      "41/41 [==============================] - 3s 71ms/step - loss: 0.0137 - mse: 3.3452e-04 - val_loss: 0.0898 - val_mse: 0.0095\n"
     ]
    }
   ],
   "source": [
    "# Create Random seed\n",
    "tf.random.set_seed(42)\n",
    "\n",
    "# Create 2nd Model\n",
    "model_RNN2 = tf.keras.Sequential([\n",
    "    tf.keras.layers.InputLayer(input_shape=(X_train.shape[1],1)),\n",
    "    #tf.keras.layers.Dense(196,activation='relu',input_shape=(X_train.shape[1],1)),\n",
    "    tf.keras.layers.SimpleRNN(50),\n",
    "    tf.keras.layers.Dense(1)\n",
    "])\n",
    "\n",
    "\n",
    "\n",
    "# Compile the model\n",
    "model_RNN2.compile(loss=tf.keras.losses.mae,\n",
    "                   optimizer=tf.keras.optimizers.Adam(learning_rate=0.0001),\n",
    "                   metrics=['mse'])\n",
    "\n",
    "# Model summary\n",
    "\n",
    "history_model_RNN2 = model_RNN2.fit(X_train,y_train,epochs=20,validation_data=(X_val,y_val))"
   ]
  },
  {
   "cell_type": "code",
   "execution_count": 52,
   "id": "caf354a8-8886-4cae-8cf9-73c7d4839f58",
   "metadata": {},
   "outputs": [
    {
     "data": {
      "text/plain": [
       "<AxesSubplot:title={'center':'Train and Validation Loss for Adam at learning rate 0.0001'}>"
      ]
     },
     "execution_count": 52,
     "metadata": {},
     "output_type": "execute_result"
    },
    {
     "data": {
      "image/png": "[encoded data removed]",
      "text/plain": [
       "<Figure size 432x288 with 1 Axes>"
      ]
     },
     "metadata": {
      "needs_background": "light"
     },
     "output_type": "display_data"
    }
   ],
   "source": [
    "# Plotting the Training process\n",
    "pd.DataFrame(history_model_RNN2.history).plot(title=\"Train and Validation Loss for Adam at learning rate 0.0001\")"
   ]
  },
  {
   "cell_type": "markdown",
   "id": "98207f60-4143-4ee2-9e79-2a89a7ad0c95",
   "metadata": {},
   "source": [
    "### We can see that Adam is learning faster"
   ]
  },
  {
   "cell_type": "code",
   "execution_count": 37,
   "id": "6b672f96-4210-44ab-836c-5330966be4e2",
   "metadata": {},
   "outputs": [],
   "source": [
    "# Create Random seed\n",
    "tf.random.set_seed(42)\n",
    "\n",
    "# Create 3rd Model\n",
    "model_RNN3 = tf.keras.Sequential([\n",
    "    tf.keras.layers.InputLayer(input_shape=(X_train.shape[1],1)),\n",
    "    #tf.keras.layers.Dense(196,activation='relu',input_shape=(X_train.shape[1],1)),\n",
    "    tf.keras.layers.SimpleRNN(56,activation='relu'),\n",
    "    tf.keras.layers.Dense(1,activation='relu')\n",
    "])\n",
    "\n",
    "def scheduler(epoch, lr):\n",
    "    if epoch<5:\n",
    "        return lr\n",
    "    else:\n",
    "        return lr * tf.math.exp(-0.1)\n",
    "\n",
    "lr_scheduler = tf.keras.callbacks.LearningRateScheduler(scheduler)\n",
    "\n",
    "# Compile the model\n",
    "model_RNN3.compile(loss=tf.keras.losses.mae,\n",
    "                   optimizer=tf.keras.optimizers.Adam(),\n",
    "                   metrics=['mae'])\n",
    "\n",
    "# Model summary\n",
    "\n",
    "history_model_RNN3 = model_RNN3.fit(X_train,y_train,epochs=40,validation_data=(X_val,y_val),callbacks=[lr_scheduler],verbose=0)"
   ]
  },
  {
   "cell_type": "code",
   "execution_count": 38,
   "id": "382e693e-a98a-4f0a-8d29-4787bad38a53",
   "metadata": {},
   "outputs": [
    {
     "data": {
      "text/plain": [
       "[<matplotlib.lines.Line2D at 0x229f415f100>]"
      ]
     },
     "execution_count": 38,
     "metadata": {},
     "output_type": "execute_result"
    },
    {
     "data": {
      "image/png": "[encoded data removed]",
      "text/plain": [
       "<Figure size 720x504 with 1 Axes>"
      ]
     },
     "metadata": {
      "needs_background": "light"
     },
     "output_type": "display_data"
    }
   ],
   "source": [
    "# Plotting the loss vs learning rate\n",
    "plt.figure(figsize=(10,7))\n",
    "plt.semilogx(history_model_RNN3.history['lr'],history_model_RNN3.history['loss'])\n"
   ]
  },
  {
   "cell_type": "code",
   "execution_count": 39,
   "id": "869b943a-a37e-48fb-8ee5-88448da6a841",
   "metadata": {},
   "outputs": [],
   "source": [
    "### The optimum learning rate is between 10^-3 and 10^-4 towards 10^-3 \n",
    "#We will keep it slightly lower than observed, almost 5*10^-4 or 0.0005\n",
    "opt_lr = 0.0005\n",
    "# Best optimizer is Adam\n"
   ]
  },
  {
   "cell_type": "code",
   "execution_count": null,
   "id": "2632a71e-40cd-4bfd-a7a4-dea5fb62b6e2",
   "metadata": {},
   "outputs": [
    {
     "name": "stdout",
     "output_type": "stream",
     "text": [
      "Epoch 1/40\n",
      "41/41 [==============================] - 4s 70ms/step - loss: 0.1314 - mse: 0.0333 - val_loss: 0.6381 - val_mse: 0.4102\n",
      "Epoch 2/40\n",
      "41/41 [==============================] - 2s 54ms/step - loss: 0.0574 - mse: 0.0103 - val_loss: 0.5805 - val_mse: 0.3402\n",
      "Epoch 3/40\n",
      "41/41 [==============================] - 2s 56ms/step - loss: 0.0427 - mse: 0.0060 - val_loss: 0.4226 - val_mse: 0.1816\n",
      "Epoch 4/40\n",
      "41/41 [==============================] - 2s 58ms/step - loss: 0.0283 - mse: 0.0021 - val_loss: 0.2483 - val_mse: 0.0661\n",
      "Epoch 5/40\n",
      "41/41 [==============================] - 2s 57ms/step - loss: 0.0147 - mse: 4.4581e-04 - val_loss: 0.1626 - val_mse: 0.0300\n",
      "Epoch 6/40\n",
      "41/41 [==============================] - 3s 67ms/step - loss: 0.0103 - mse: 2.1086e-04 - val_loss: 0.1697 - val_mse: 0.0318\n",
      "Epoch 7/40\n",
      "41/41 [==============================] - 3s 64ms/step - loss: 0.0091 - mse: 1.6658e-04 - val_loss: 0.1552 - val_mse: 0.0268\n",
      "Epoch 8/40\n",
      "41/41 [==============================] - 3s 62ms/step - loss: 0.0090 - mse: 1.5154e-04 - val_loss: 0.1664 - val_mse: 0.0303\n",
      "Epoch 9/40\n",
      "41/41 [==============================] - 3s 63ms/step - loss: 0.0086 - mse: 1.4055e-04 - val_loss: 0.1510 - val_mse: 0.0253\n",
      "Epoch 10/40\n",
      "41/41 [==============================] - 3s 63ms/step - loss: 0.0082 - mse: 1.2994e-04 - val_loss: 0.1582 - val_mse: 0.0275\n",
      "Epoch 11/40\n",
      "41/41 [==============================] - 3s 63ms/step - loss: 0.0080 - mse: 1.2593e-04 - val_loss: 0.1757 - val_mse: 0.0332\n",
      "Epoch 12/40\n",
      "41/41 [==============================] - 3s 64ms/step - loss: 0.0069 - mse: 1.0169e-04 - val_loss: 0.1482 - val_mse: 0.0245\n",
      "Epoch 13/40\n",
      "41/41 [==============================] - 3s 65ms/step - loss: 0.0064 - mse: 9.2955e-05 - val_loss: 0.1294 - val_mse: 0.0192\n",
      "Epoch 14/40\n",
      "41/41 [==============================] - 3s 62ms/step - loss: 0.0066 - mse: 9.7996e-05 - val_loss: 0.1524 - val_mse: 0.0256\n",
      "Epoch 15/40\n",
      "41/41 [==============================] - 3s 63ms/step - loss: 0.0070 - mse: 1.0205e-04 - val_loss: 0.1726 - val_mse: 0.0322\n",
      "Epoch 16/40\n",
      "41/41 [==============================] - 3s 62ms/step - loss: 0.0070 - mse: 9.9136e-05 - val_loss: 0.1608 - val_mse: 0.0281\n",
      "Epoch 17/40\n",
      "41/41 [==============================] - 3s 67ms/step - loss: 0.0065 - mse: 9.0078e-05 - val_loss: 0.1481 - val_mse: 0.0244\n",
      "Epoch 18/40\n",
      "41/41 [==============================] - 3s 66ms/step - loss: 0.0061 - mse: 8.3203e-05 - val_loss: 0.1600 - val_mse: 0.0280\n",
      "Epoch 19/40\n",
      "41/41 [==============================] - 3s 68ms/step - loss: 0.0068 - mse: 9.2280e-05 - val_loss: 0.1421 - val_mse: 0.0227\n",
      "Epoch 20/40\n",
      "41/41 [==============================] - 3s 70ms/step - loss: 0.0061 - mse: 7.9585e-05 - val_loss: 0.1553 - val_mse: 0.0264\n",
      "Epoch 21/40\n",
      "41/41 [==============================] - 3s 65ms/step - loss: 0.0060 - mse: 8.2575e-05 - val_loss: 0.1628 - val_mse: 0.0288\n",
      "Epoch 22/40\n",
      "41/41 [==============================] - 3s 70ms/step - loss: 0.0074 - mse: 1.0544e-04 - val_loss: 0.1482 - val_mse: 0.0245\n",
      "Epoch 23/40\n",
      "41/41 [==============================] - 3s 67ms/step - loss: 0.0059 - mse: 7.5483e-05 - val_loss: 0.1485 - val_mse: 0.0245\n",
      "Epoch 24/40\n",
      "41/41 [==============================] - 3s 70ms/step - loss: 0.0058 - mse: 7.0996e-05 - val_loss: 0.1595 - val_mse: 0.0277\n",
      "Epoch 25/40\n",
      "41/41 [==============================] - 3s 67ms/step - loss: 0.0063 - mse: 8.4157e-05 - val_loss: 0.1606 - val_mse: 0.0282\n",
      "Epoch 26/40\n",
      "41/41 [==============================] - 3s 69ms/step - loss: 0.0064 - mse: 8.2427e-05 - val_loss: 0.1751 - val_mse: 0.0331\n",
      "Epoch 27/40\n",
      "41/41 [==============================] - 3s 79ms/step - loss: 0.0062 - mse: 7.8589e-05 - val_loss: 0.1689 - val_mse: 0.0310\n",
      "Epoch 28/40\n",
      "41/41 [==============================] - 3s 67ms/step - loss: 0.0055 - mse: 6.6821e-05 - val_loss: 0.1583 - val_mse: 0.0278\n",
      "Epoch 29/40\n",
      "41/41 [==============================] - 3s 66ms/step - loss: 0.0052 - mse: 6.1972e-05 - val_loss: 0.1569 - val_mse: 0.0271\n",
      "Epoch 30/40\n",
      "41/41 [==============================] - 3s 72ms/step - loss: 0.0064 - mse: 8.2943e-05 - val_loss: 0.1571 - val_mse: 0.0272\n",
      "Epoch 31/40\n",
      "41/41 [==============================] - 3s 67ms/step - loss: 0.0067 - mse: 8.3522e-05 - val_loss: 0.1642 - val_mse: 0.0294\n",
      "Epoch 32/40\n",
      "41/41 [==============================] - 3s 66ms/step - loss: 0.0057 - mse: 6.7971e-05 - val_loss: 0.1587 - val_mse: 0.0276\n",
      "Epoch 33/40\n",
      "41/41 [==============================] - 3s 65ms/step - loss: 0.0052 - mse: 6.2541e-05 - val_loss: 0.1620 - val_mse: 0.0286\n",
      "Epoch 34/40\n",
      "41/41 [==============================] - 3s 65ms/step - loss: 0.0052 - mse: 5.9874e-05 - val_loss: 0.1350 - val_mse: 0.0208\n",
      "Epoch 35/40\n",
      "41/41 [==============================] - 3s 67ms/step - loss: 0.0055 - mse: 6.4885e-05 - val_loss: 0.1644 - val_mse: 0.0295\n",
      "Epoch 36/40\n",
      "41/41 [==============================] - 3s 65ms/step - loss: 0.0053 - mse: 6.0637e-05 - val_loss: 0.1639 - val_mse: 0.0293\n",
      "Epoch 37/40\n",
      "41/41 [==============================] - 3s 68ms/step - loss: 0.0052 - mse: 5.9357e-05 - val_loss: 0.1582 - val_mse: 0.0275\n",
      "Epoch 38/40\n",
      "41/41 [==============================] - 3s 66ms/step - loss: 0.0059 - mse: 7.0660e-05 - val_loss: 0.1428 - val_mse: 0.0227\n",
      "Epoch 39/40\n",
      "41/41 [==============================] - 3s 66ms/step - loss: 0.0055 - mse: 6.2297e-05 - val_loss: 0.1669 - val_mse: 0.0302\n",
      "Epoch 40/40\n",
      "41/41 [==============================] - 3s 65ms/step - loss: 0.0054 - mse: 5.8283e-05 - val_loss: 0.1526 - val_mse: 0.0257\n"
     ]
    }
   ],
   "source": [
    "# Create Random seed\n",
    "tf.random.set_seed(42)\n",
    "\n",
    "# Create 4th Model\n",
    "model_RNN4 = tf.keras.Sequential([\n",
    "    tf.keras.layers.InputLayer(input_shape=(X_train.shape[1],1)),\n",
    "    #tf.keras.layers.Dense(196,activation='relu',input_shape=(X_train.shape[1],1)),\n",
    "    tf.keras.layers.SimpleRNN(60,activation='relu'),\n",
    "    tf.keras.layers.Dense(1)\n",
    "])\n",
    "\n",
    "\n",
    "\n",
    "# Compile the model\n",
    "model_RNN4.compile(loss=tf.keras.losses.mae,\n",
    "                   optimizer=tf.keras.optimizers.Adam(learning_rate=opt_lr),\n",
    "                   metrics=['mse'])\n",
    "\n",
    "# Model summary\n",
    "\n",
    "history_model_RNN4 = model_RNN4.fit(X_train,y_train,epochs=40,validation_data=(X_val,y_val))"
   ]
  },
  {
   "cell_type": "code",
   "execution_count": 54,
   "id": "a129a844-89e3-41df-adef-3562531a9409",
   "metadata": {},
   "outputs": [
    {
     "data": {
      "text/plain": [
       "<AxesSubplot:title={'center':'Model Trained with optimal parameters'}>"
      ]
     },
     "execution_count": 54,
     "metadata": {},
     "output_type": "execute_result"
    },
    {
     "data": {
      "image/png": "[encoded data removed]",
      "text/plain": [
       "<Figure size 432x288 with 1 Axes>"
      ]
     },
     "metadata": {
      "needs_background": "light"
     },
     "output_type": "display_data"
    }
   ],
   "source": [
    "pd.DataFrame(history_model_RNN4.history).plot(title='Model Trained with optimal parameters')"
   ]
  },
  {
   "cell_type": "code",
   "execution_count": 29,
   "id": "31ec030c-f1c3-4924-8569-c0e5004939e7",
   "metadata": {},
   "outputs": [],
   "source": [
    "y_pred_train = model_RNN4.predict(X_train)\n",
    "y_pred_test = model_RNN4.predict(X_test)\n"
   ]
  },
  {
   "cell_type": "code",
   "execution_count": 56,
   "id": "00466dd1-2ad3-4046-ac11-3bd2b2cc23cf",
   "metadata": {},
   "outputs": [
    {
     "data": {
      "text/plain": [
       "[<matplotlib.lines.Line2D at 0x229f7a9fca0>]"
      ]
     },
     "execution_count": 56,
     "metadata": {},
     "output_type": "execute_result"
    },
    {
     "data": {
      "image/png": "[encoded data removed]",
      "text/plain": [
       "<Figure size 720x576 with 1 Axes>"
      ]
     },
     "metadata": {
      "needs_background": "light"
     },
     "output_type": "display_data"
    }
   ],
   "source": [
    "plt.figure(figsize=(10,8))\n",
    "plt.plot(y_train,'g')\n",
    "plt.plot(y_pred_train,'y')\n"
   ]
  },
  {
   "cell_type": "code",
   "execution_count": 31,
   "id": "7c648681-f578-410b-a5fa-818cedf3b47f",
   "metadata": {},
   "outputs": [
    {
     "data": {
      "text/plain": [
       "array([0.10501134, 0.09978853, 0.09046916, ..., 0.45217169, 0.44731031,\n",
       "       0.44461175])"
      ]
     },
     "execution_count": 31,
     "metadata": {},
     "output_type": "execute_result"
    }
   ],
   "source": [
    "y_train"
   ]
  },
  {
   "cell_type": "code",
   "execution_count": 32,
   "id": "559c803d-ab41-4545-8d6f-5f0e6746694e",
   "metadata": {},
   "outputs": [
    {
     "data": {
      "text/plain": [
       "array([[0.1046793 ],\n",
       "       [0.10094605],\n",
       "       [0.09786359],\n",
       "       ...,\n",
       "       [0.4463334 ],\n",
       "       [0.44037187],\n",
       "       [0.44774944]], dtype=float32)"
      ]
     },
     "execution_count": 32,
     "metadata": {},
     "output_type": "execute_result"
    }
   ],
   "source": [
    "y_pred_train"
   ]
  },
  {
   "cell_type": "code",
   "execution_count": 33,
   "id": "21f2e549-a20c-46a0-971b-04af62894676",
   "metadata": {},
   "outputs": [
    {
     "data": {
      "text/html": [
       "<div>\n",
       "<style scoped>\n",
       "    .dataframe tbody tr th:only-of-type {\n",
       "        vertical-align: middle;\n",
       "    }\n",
       "\n",
       "    .dataframe tbody tr th {\n",
       "        vertical-align: top;\n",
       "    }\n",
       "\n",
       "    .dataframe thead th {\n",
       "        text-align: right;\n",
       "    }\n",
       "</style>\n",
       "<table border=\"1\" class=\"dataframe\">\n",
       "  <thead>\n",
       "    <tr style=\"text-align: right;\">\n",
       "      <th></th>\n",
       "      <th>Method</th>\n",
       "      <th>MAPE</th>\n",
       "      <th>RMSE</th>\n",
       "    </tr>\n",
       "  </thead>\n",
       "  <tbody>\n",
       "    <tr>\n",
       "      <th>0</th>\n",
       "      <td>Simple RNN Model Train</td>\n",
       "      <td>0.0071</td>\n",
       "      <td>0.0075</td>\n",
       "    </tr>\n",
       "  </tbody>\n",
       "</table>\n",
       "</div>"
      ],
      "text/plain": [
       "                   Method    MAPE    RMSE\n",
       "0  Simple RNN Model Train  0.0071  0.0075"
      ]
     },
     "execution_count": 33,
     "metadata": {},
     "output_type": "execute_result"
    }
   ],
   "source": [
    "# Calculate RMSE and MSE\n",
    "from sklearn.metrics import mean_squared_error\n",
    "\n",
    "rmse=np.sqrt(mean_squared_error(y_train,y_pred_train)).round(4)\n",
    "mape=np.round(np.mean(np.abs(y_train-y_pred_train)/len(y_train))*100,4)\n",
    "\n",
    "results = pd.DataFrame({\"Method\":['Simple RNN Model Train'],'MAPE':[mape],'RMSE':[rmse]})\n",
    "results"
   ]
  },
  {
   "cell_type": "code",
   "execution_count": 34,
   "id": "7c5e917b-befb-4642-95cf-a4108b84e08d",
   "metadata": {},
   "outputs": [
    {
     "data": {
      "text/html": [
       "<div>\n",
       "<style scoped>\n",
       "    .dataframe tbody tr th:only-of-type {\n",
       "        vertical-align: middle;\n",
       "    }\n",
       "\n",
       "    .dataframe tbody tr th {\n",
       "        vertical-align: top;\n",
       "    }\n",
       "\n",
       "    .dataframe thead th {\n",
       "        text-align: right;\n",
       "    }\n",
       "</style>\n",
       "<table border=\"1\" class=\"dataframe\">\n",
       "  <thead>\n",
       "    <tr style=\"text-align: right;\">\n",
       "      <th></th>\n",
       "      <th>Method</th>\n",
       "      <th>MAPE</th>\n",
       "      <th>RMSE</th>\n",
       "    </tr>\n",
       "  </thead>\n",
       "  <tbody>\n",
       "    <tr>\n",
       "      <th>0</th>\n",
       "      <td>Simple RNN Model Train</td>\n",
       "      <td>0.0071</td>\n",
       "      <td>0.0075</td>\n",
       "    </tr>\n",
       "    <tr>\n",
       "      <th>0</th>\n",
       "      <td>Simple RNN Model Test</td>\n",
       "      <td>2.3454</td>\n",
       "      <td>0.2643</td>\n",
       "    </tr>\n",
       "  </tbody>\n",
       "</table>\n",
       "</div>"
      ],
      "text/plain": [
       "                   Method    MAPE    RMSE\n",
       "0  Simple RNN Model Train  0.0071  0.0075\n",
       "0   Simple RNN Model Test  2.3454  0.2643"
      ]
     },
     "execution_count": 34,
     "metadata": {},
     "output_type": "execute_result"
    }
   ],
   "source": [
    "rmse=np.sqrt(mean_squared_error(y_test,y_pred_test)).round(4)\n",
    "mape=np.round(np.mean(np.abs(y_test-y_pred_test)/len(y_test))*100,4)\n",
    "\n",
    "results2 = pd.DataFrame({\"Method\":['Simple RNN Model Test'],'MAPE':[mape],'RMSE':[rmse]})\n",
    "results = pd.concat([results,results2],axis=0)\n",
    "results"
   ]
  },
  {
   "cell_type": "code",
   "execution_count": null,
   "id": "1efa34ae-b863-4b8b-a506-7ce06afdbd22",
   "metadata": {},
   "outputs": [],
   "source": [
    "results.to_csv('Experimental_Results1.csv')"
   ]
  },
  {
   "cell_type": "code",
   "execution_count": null,
   "id": "8edb733f-4575-419d-9bbf-256888a67fed",
   "metadata": {},
   "outputs": [],
   "source": [
    "model_RNN4.save('models_saved/SimpleRNNmodel.h5')"
   ]
  },
  {
   "cell_type": "code",
   "execution_count": 48,
   "id": "a31161eb-9f5c-4847-a45b-fe52516ae2e4",
   "metadata": {},
   "outputs": [
    {
     "name": "stdout",
     "output_type": "stream",
     "text": [
      "Model: \"sequential_4\"\n",
      "_________________________________________________________________\n",
      " Layer (type)                Output Shape              Param #   \n",
      "=================================================================\n",
      " simple_rnn_4 (SimpleRNN)    (None, 60)                3720      \n",
      "                                                                 \n",
      " dense_4 (Dense)             (None, 1)                 61        \n",
      "                                                                 \n",
      "=================================================================\n",
      "Total params: 3,781\n",
      "Trainable params: 3,781\n",
      "Non-trainable params: 0\n",
      "_________________________________________________________________\n"
     ]
    }
   ],
   "source": [
    "model_RNN4.summary()"
   ]
  },
  {
   "cell_type": "markdown",
   "id": "056f7380-613a-4545-88fa-a77aa0a15946",
   "metadata": {},
   "source": [
    "## Dabur"
   ]
  },
  {
   "cell_type": "code",
   "execution_count": 58,
   "id": "4a4557b4-5850-45f2-9e30-3032df8e4d28",
   "metadata": {},
   "outputs": [
    {
     "data": {
      "text/html": [
       "<div>\n",
       "<style scoped>\n",
       "    .dataframe tbody tr th:only-of-type {\n",
       "        vertical-align: middle;\n",
       "    }\n",
       "\n",
       "    .dataframe tbody tr th {\n",
       "        vertical-align: top;\n",
       "    }\n",
       "\n",
       "    .dataframe thead th {\n",
       "        text-align: right;\n",
       "    }\n",
       "</style>\n",
       "<table border=\"1\" class=\"dataframe\">\n",
       "  <thead>\n",
       "    <tr style=\"text-align: right;\">\n",
       "      <th></th>\n",
       "      <th>Date</th>\n",
       "      <th>FibonacciLevels</th>\n",
       "      <th>PBDT</th>\n",
       "      <th>RSI</th>\n",
       "      <th>macd</th>\n",
       "      <th>Volume</th>\n",
       "      <th>EPS (Rs)</th>\n",
       "      <th>CI</th>\n",
       "    </tr>\n",
       "  </thead>\n",
       "  <tbody>\n",
       "    <tr>\n",
       "      <th>0</th>\n",
       "      <td>2016-01-01</td>\n",
       "      <td>257.125140</td>\n",
       "      <td>85.89</td>\n",
       "      <td>54.508074</td>\n",
       "      <td>16.100488</td>\n",
       "      <td>124367</td>\n",
       "      <td>1.3</td>\n",
       "      <td>59.565059</td>\n",
       "    </tr>\n",
       "    <tr>\n",
       "      <th>1</th>\n",
       "      <td>2016-01-04</td>\n",
       "      <td>262.020561</td>\n",
       "      <td>85.89</td>\n",
       "      <td>48.308730</td>\n",
       "      <td>12.228003</td>\n",
       "      <td>554107</td>\n",
       "      <td>1.3</td>\n",
       "      <td>77.614801</td>\n",
       "    </tr>\n",
       "    <tr>\n",
       "      <th>2</th>\n",
       "      <td>2016-01-05</td>\n",
       "      <td>260.621858</td>\n",
       "      <td>85.89</td>\n",
       "      <td>46.946990</td>\n",
       "      <td>8.029225</td>\n",
       "      <td>629235</td>\n",
       "      <td>1.3</td>\n",
       "      <td>74.917170</td>\n",
       "    </tr>\n",
       "    <tr>\n",
       "      <th>3</th>\n",
       "      <td>2016-01-06</td>\n",
       "      <td>261.927240</td>\n",
       "      <td>85.89</td>\n",
       "      <td>39.421521</td>\n",
       "      <td>-1.800329</td>\n",
       "      <td>750275</td>\n",
       "      <td>1.3</td>\n",
       "      <td>55.815378</td>\n",
       "    </tr>\n",
       "    <tr>\n",
       "      <th>4</th>\n",
       "      <td>2016-01-07</td>\n",
       "      <td>256.425841</td>\n",
       "      <td>85.89</td>\n",
       "      <td>27.633197</td>\n",
       "      <td>-25.416438</td>\n",
       "      <td>910959</td>\n",
       "      <td>1.3</td>\n",
       "      <td>30.485256</td>\n",
       "    </tr>\n",
       "  </tbody>\n",
       "</table>\n",
       "</div>"
      ],
      "text/plain": [
       "         Date  FibonacciLevels   PBDT        RSI       macd  Volume  EPS (Rs)  \\\n",
       "0  2016-01-01       257.125140  85.89  54.508074  16.100488  124367       1.3   \n",
       "1  2016-01-04       262.020561  85.89  48.308730  12.228003  554107       1.3   \n",
       "2  2016-01-05       260.621858  85.89  46.946990   8.029225  629235       1.3   \n",
       "3  2016-01-06       261.927240  85.89  39.421521  -1.800329  750275       1.3   \n",
       "4  2016-01-07       256.425841  85.89  27.633197 -25.416438  910959       1.3   \n",
       "\n",
       "          CI  \n",
       "0  59.565059  \n",
       "1  77.614801  \n",
       "2  74.917170  \n",
       "3  55.815378  \n",
       "4  30.485256  "
      ]
     },
     "execution_count": 58,
     "metadata": {},
     "output_type": "execute_result"
    }
   ],
   "source": [
    "# Read Data \n",
    "dabur = pd.read_csv(DATA_HOME+'\\\\dabur\\\\dabur_expsetup2.csv')\n",
    "dabur.head()"
   ]
  },
  {
   "cell_type": "code",
   "execution_count": 59,
   "id": "4fc23d15-dd32-4294-b800-207707dc9319",
   "metadata": {},
   "outputs": [
    {
     "data": {
      "text/html": [
       "<div>\n",
       "<style scoped>\n",
       "    .dataframe tbody tr th:only-of-type {\n",
       "        vertical-align: middle;\n",
       "    }\n",
       "\n",
       "    .dataframe tbody tr th {\n",
       "        vertical-align: top;\n",
       "    }\n",
       "\n",
       "    .dataframe thead th {\n",
       "        text-align: right;\n",
       "    }\n",
       "</style>\n",
       "<table border=\"1\" class=\"dataframe\">\n",
       "  <thead>\n",
       "    <tr style=\"text-align: right;\">\n",
       "      <th></th>\n",
       "      <th>FibonacciLevels</th>\n",
       "      <th>PBDT</th>\n",
       "      <th>RSI</th>\n",
       "      <th>macd</th>\n",
       "      <th>Volume</th>\n",
       "      <th>EPS (Rs)</th>\n",
       "      <th>CI</th>\n",
       "    </tr>\n",
       "    <tr>\n",
       "      <th>Date</th>\n",
       "      <th></th>\n",
       "      <th></th>\n",
       "      <th></th>\n",
       "      <th></th>\n",
       "      <th></th>\n",
       "      <th></th>\n",
       "      <th></th>\n",
       "    </tr>\n",
       "  </thead>\n",
       "  <tbody>\n",
       "    <tr>\n",
       "      <th>2016-01-01</th>\n",
       "      <td>257.125140</td>\n",
       "      <td>85.89</td>\n",
       "      <td>54.508074</td>\n",
       "      <td>16.100488</td>\n",
       "      <td>124367</td>\n",
       "      <td>1.3</td>\n",
       "      <td>59.565059</td>\n",
       "    </tr>\n",
       "    <tr>\n",
       "      <th>2016-01-04</th>\n",
       "      <td>262.020561</td>\n",
       "      <td>85.89</td>\n",
       "      <td>48.308730</td>\n",
       "      <td>12.228003</td>\n",
       "      <td>554107</td>\n",
       "      <td>1.3</td>\n",
       "      <td>77.614801</td>\n",
       "    </tr>\n",
       "    <tr>\n",
       "      <th>2016-01-05</th>\n",
       "      <td>260.621858</td>\n",
       "      <td>85.89</td>\n",
       "      <td>46.946990</td>\n",
       "      <td>8.029225</td>\n",
       "      <td>629235</td>\n",
       "      <td>1.3</td>\n",
       "      <td>74.917170</td>\n",
       "    </tr>\n",
       "    <tr>\n",
       "      <th>2016-01-06</th>\n",
       "      <td>261.927240</td>\n",
       "      <td>85.89</td>\n",
       "      <td>39.421521</td>\n",
       "      <td>-1.800329</td>\n",
       "      <td>750275</td>\n",
       "      <td>1.3</td>\n",
       "      <td>55.815378</td>\n",
       "    </tr>\n",
       "    <tr>\n",
       "      <th>2016-01-07</th>\n",
       "      <td>256.425841</td>\n",
       "      <td>85.89</td>\n",
       "      <td>27.633197</td>\n",
       "      <td>-25.416438</td>\n",
       "      <td>910959</td>\n",
       "      <td>1.3</td>\n",
       "      <td>30.485256</td>\n",
       "    </tr>\n",
       "  </tbody>\n",
       "</table>\n",
       "</div>"
      ],
      "text/plain": [
       "            FibonacciLevels   PBDT        RSI       macd  Volume  EPS (Rs)  \\\n",
       "Date                                                                         \n",
       "2016-01-01       257.125140  85.89  54.508074  16.100488  124367       1.3   \n",
       "2016-01-04       262.020561  85.89  48.308730  12.228003  554107       1.3   \n",
       "2016-01-05       260.621858  85.89  46.946990   8.029225  629235       1.3   \n",
       "2016-01-06       261.927240  85.89  39.421521  -1.800329  750275       1.3   \n",
       "2016-01-07       256.425841  85.89  27.633197 -25.416438  910959       1.3   \n",
       "\n",
       "                   CI  \n",
       "Date                   \n",
       "2016-01-01  59.565059  \n",
       "2016-01-04  77.614801  \n",
       "2016-01-05  74.917170  \n",
       "2016-01-06  55.815378  \n",
       "2016-01-07  30.485256  "
      ]
     },
     "execution_count": 59,
     "metadata": {},
     "output_type": "execute_result"
    }
   ],
   "source": [
    "dabur['Date'] = pd.to_datetime(dabur['Date'],format='%Y-%m-%d')\n",
    "dabur = dabur.set_index('Date')\n",
    "dabur.head()"
   ]
  },
  {
   "cell_type": "code",
   "execution_count": 60,
   "id": "88aca369-ae14-4951-ba1f-871488479a4a",
   "metadata": {},
   "outputs": [
    {
     "data": {
      "text/html": [
       "<div>\n",
       "<style scoped>\n",
       "    .dataframe tbody tr th:only-of-type {\n",
       "        vertical-align: middle;\n",
       "    }\n",
       "\n",
       "    .dataframe tbody tr th {\n",
       "        vertical-align: top;\n",
       "    }\n",
       "\n",
       "    .dataframe thead th {\n",
       "        text-align: right;\n",
       "    }\n",
       "</style>\n",
       "<table border=\"1\" class=\"dataframe\">\n",
       "  <thead>\n",
       "    <tr style=\"text-align: right;\">\n",
       "      <th></th>\n",
       "      <th>FibonacciLevels</th>\n",
       "      <th>PBDT</th>\n",
       "      <th>RSI</th>\n",
       "      <th>macd</th>\n",
       "      <th>Volume</th>\n",
       "      <th>EPS (Rs)</th>\n",
       "      <th>CI</th>\n",
       "    </tr>\n",
       "    <tr>\n",
       "      <th>Date</th>\n",
       "      <th></th>\n",
       "      <th></th>\n",
       "      <th></th>\n",
       "      <th></th>\n",
       "      <th></th>\n",
       "      <th></th>\n",
       "      <th></th>\n",
       "    </tr>\n",
       "  </thead>\n",
       "  <tbody>\n",
       "    <tr>\n",
       "      <th>2016-01-01</th>\n",
       "      <td>0.089844</td>\n",
       "      <td>0.348466</td>\n",
       "      <td>0.518787</td>\n",
       "      <td>0.653519</td>\n",
       "      <td>0.001912</td>\n",
       "      <td>0.244604</td>\n",
       "      <td>0.699634</td>\n",
       "    </tr>\n",
       "    <tr>\n",
       "      <th>2016-01-04</th>\n",
       "      <td>0.101008</td>\n",
       "      <td>0.348466</td>\n",
       "      <td>0.432311</td>\n",
       "      <td>0.649288</td>\n",
       "      <td>0.025161</td>\n",
       "      <td>0.244604</td>\n",
       "      <td>0.944453</td>\n",
       "    </tr>\n",
       "    <tr>\n",
       "      <th>2016-01-05</th>\n",
       "      <td>0.097818</td>\n",
       "      <td>0.348466</td>\n",
       "      <td>0.413316</td>\n",
       "      <td>0.644701</td>\n",
       "      <td>0.029225</td>\n",
       "      <td>0.244604</td>\n",
       "      <td>0.907864</td>\n",
       "    </tr>\n",
       "    <tr>\n",
       "      <th>2016-01-06</th>\n",
       "      <td>0.100795</td>\n",
       "      <td>0.348466</td>\n",
       "      <td>0.308341</td>\n",
       "      <td>0.633962</td>\n",
       "      <td>0.035774</td>\n",
       "      <td>0.244604</td>\n",
       "      <td>0.648775</td>\n",
       "    </tr>\n",
       "    <tr>\n",
       "      <th>2016-01-07</th>\n",
       "      <td>0.088249</td>\n",
       "      <td>0.348466</td>\n",
       "      <td>0.143903</td>\n",
       "      <td>0.608162</td>\n",
       "      <td>0.044467</td>\n",
       "      <td>0.244604</td>\n",
       "      <td>0.305207</td>\n",
       "    </tr>\n",
       "  </tbody>\n",
       "</table>\n",
       "</div>"
      ],
      "text/plain": [
       "            FibonacciLevels      PBDT       RSI      macd    Volume  EPS (Rs)  \\\n",
       "Date                                                                            \n",
       "2016-01-01         0.089844  0.348466  0.518787  0.653519  0.001912  0.244604   \n",
       "2016-01-04         0.101008  0.348466  0.432311  0.649288  0.025161  0.244604   \n",
       "2016-01-05         0.097818  0.348466  0.413316  0.644701  0.029225  0.244604   \n",
       "2016-01-06         0.100795  0.348466  0.308341  0.633962  0.035774  0.244604   \n",
       "2016-01-07         0.088249  0.348466  0.143903  0.608162  0.044467  0.244604   \n",
       "\n",
       "                  CI  \n",
       "Date                  \n",
       "2016-01-01  0.699634  \n",
       "2016-01-04  0.944453  \n",
       "2016-01-05  0.907864  \n",
       "2016-01-06  0.648775  \n",
       "2016-01-07  0.305207  "
      ]
     },
     "execution_count": 60,
     "metadata": {},
     "output_type": "execute_result"
    }
   ],
   "source": [
    "scaler_dabur = MinMaxScaler()\n",
    "dabur_norm = scaler_dabur.fit_transform(dabur)\n",
    "\n",
    "dabur_df = pd.DataFrame(dabur_norm,columns=dabur.columns,index=dabur.index)\n",
    "dabur_df.head()"
   ]
  },
  {
   "cell_type": "code",
   "execution_count": 61,
   "id": "b57e8a1c-64ec-4d9c-a65e-9ad7c36fb92b",
   "metadata": {},
   "outputs": [],
   "source": [
    "dabur_train =dabur_df['2016-01-01':'2021-05-31']\n",
    "dabur_val =dabur_df['2021-07-01':'2021-09-30']\n",
    "dabur_test =dabur_df['2021-10-01':]\n",
    "\n",
    "\n",
    "X_train,y_train = XY_split(dabur_train,timestep=28)\n",
    "X_val,y_val=XY_split(dabur_val,timestep=28)\n",
    "X_test,y_test=XY_split(dabur_test,timestep=28)\n",
    "\n",
    "\n",
    "n,m,k =X_train.shape\n",
    "X_train = X_train.reshape(n,m*k)\n",
    "y_train=y_train[:,0]\n",
    "\n",
    "n,m,k =X_val.shape\n",
    "X_val = X_val.reshape(n,m*k)\n",
    "y_val=y_val[:,0]\n",
    "\n",
    "n,m,k =X_test.shape\n",
    "X_test = X_test.reshape(n,m*k)\n",
    "y_test=y_test[:,0]"
   ]
  },
  {
   "cell_type": "code",
   "execution_count": 63,
   "id": "b1e42144-e3d3-48f8-a047-b9bfcfaa0297",
   "metadata": {},
   "outputs": [
    {
     "name": "stdout",
     "output_type": "stream",
     "text": [
      "Epoch 1/40\n",
      "37/37 [==============================] - 4s 68ms/step - loss: 0.3642 - mse: 0.1908 - val_loss: 0.4079 - val_mse: 0.1690\n",
      "Epoch 2/40\n",
      "37/37 [==============================] - 2s 56ms/step - loss: 0.1564 - mse: 0.0354 - val_loss: 0.3253 - val_mse: 0.1077\n",
      "Epoch 3/40\n",
      "37/37 [==============================] - 2s 56ms/step - loss: 0.1317 - mse: 0.0251 - val_loss: 0.3082 - val_mse: 0.0969\n",
      "Epoch 4/40\n",
      "37/37 [==============================] - 2s 57ms/step - loss: 0.0989 - mse: 0.0150 - val_loss: 0.1805 - val_mse: 0.0343\n",
      "Epoch 5/40\n",
      "37/37 [==============================] - 2s 59ms/step - loss: 0.0522 - mse: 0.0048 - val_loss: 0.0924 - val_mse: 0.0100\n",
      "Epoch 6/40\n",
      "37/37 [==============================] - 2s 57ms/step - loss: 0.0347 - mse: 0.0022 - val_loss: 0.0849 - val_mse: 0.0081\n",
      "Epoch 7/40\n",
      "37/37 [==============================] - 2s 58ms/step - loss: 0.0304 - mse: 0.0017 - val_loss: 0.1311 - val_mse: 0.0182\n",
      "Epoch 8/40\n",
      "37/37 [==============================] - 2s 57ms/step - loss: 0.0314 - mse: 0.0018 - val_loss: 0.1022 - val_mse: 0.0113\n",
      "Epoch 9/40\n",
      "37/37 [==============================] - 2s 59ms/step - loss: 0.0244 - mse: 0.0012 - val_loss: 0.0672 - val_mse: 0.0051\n",
      "Epoch 10/40\n",
      "37/37 [==============================] - 2s 57ms/step - loss: 0.0222 - mse: 9.8842e-04 - val_loss: 0.0855 - val_mse: 0.0079\n",
      "Epoch 11/40\n",
      "37/37 [==============================] - 2s 57ms/step - loss: 0.0217 - mse: 9.3204e-04 - val_loss: 0.0626 - val_mse: 0.0044\n",
      "Epoch 12/40\n",
      "37/37 [==============================] - 2s 61ms/step - loss: 0.0195 - mse: 8.0454e-04 - val_loss: 0.0333 - val_mse: 0.0015\n",
      "Epoch 13/40\n",
      "37/37 [==============================] - 2s 65ms/step - loss: 0.0180 - mse: 6.9357e-04 - val_loss: 0.0237 - val_mse: 9.0425e-04\n",
      "Epoch 14/40\n",
      "37/37 [==============================] - 2s 66ms/step - loss: 0.0166 - mse: 5.9845e-04 - val_loss: 0.0347 - val_mse: 0.0015\n",
      "Epoch 15/40\n",
      "37/37 [==============================] - 3s 68ms/step - loss: 0.0187 - mse: 6.9090e-04 - val_loss: 0.0537 - val_mse: 0.0032\n",
      "Epoch 16/40\n",
      "37/37 [==============================] - 3s 71ms/step - loss: 0.0161 - mse: 5.7094e-04 - val_loss: 0.0405 - val_mse: 0.0020\n",
      "Epoch 17/40\n",
      "37/37 [==============================] - 3s 69ms/step - loss: 0.0166 - mse: 5.8725e-04 - val_loss: 0.0178 - val_mse: 5.5031e-04\n",
      "Epoch 18/40\n",
      "37/37 [==============================] - 3s 68ms/step - loss: 0.0158 - mse: 5.1428e-04 - val_loss: 0.0176 - val_mse: 5.6914e-04\n",
      "Epoch 19/40\n",
      "37/37 [==============================] - 3s 75ms/step - loss: 0.0162 - mse: 5.1842e-04 - val_loss: 0.0495 - val_mse: 0.0028\n",
      "Epoch 20/40\n",
      "37/37 [==============================] - 2s 67ms/step - loss: 0.0154 - mse: 5.0315e-04 - val_loss: 0.0177 - val_mse: 5.3178e-04\n",
      "Epoch 21/40\n",
      "37/37 [==============================] - 2s 67ms/step - loss: 0.0167 - mse: 5.5900e-04 - val_loss: 0.0182 - val_mse: 6.1490e-04\n",
      "Epoch 22/40\n",
      "37/37 [==============================] - 2s 66ms/step - loss: 0.0155 - mse: 4.9249e-04 - val_loss: 0.0158 - val_mse: 4.5774e-04\n",
      "Epoch 23/40\n",
      "37/37 [==============================] - 2s 66ms/step - loss: 0.0139 - mse: 4.2781e-04 - val_loss: 0.0262 - val_mse: 9.2695e-04\n",
      "Epoch 24/40\n",
      "37/37 [==============================] - 3s 68ms/step - loss: 0.0141 - mse: 4.3854e-04 - val_loss: 0.0170 - val_mse: 4.1698e-04\n",
      "Epoch 25/40\n",
      "37/37 [==============================] - 2s 65ms/step - loss: 0.0145 - mse: 4.3502e-04 - val_loss: 0.0156 - val_mse: 4.3740e-04\n",
      "Epoch 26/40\n",
      "37/37 [==============================] - 3s 67ms/step - loss: 0.0139 - mse: 4.2144e-04 - val_loss: 0.0161 - val_mse: 3.7364e-04\n",
      "Epoch 27/40\n",
      "37/37 [==============================] - 2s 67ms/step - loss: 0.0142 - mse: 4.3365e-04 - val_loss: 0.0176 - val_mse: 4.8122e-04\n",
      "Epoch 28/40\n",
      "37/37 [==============================] - 2s 67ms/step - loss: 0.0138 - mse: 4.0648e-04 - val_loss: 0.0198 - val_mse: 5.5787e-04\n",
      "Epoch 29/40\n",
      "37/37 [==============================] - 3s 68ms/step - loss: 0.0141 - mse: 4.1325e-04 - val_loss: 0.0177 - val_mse: 4.9127e-04\n",
      "Epoch 30/40\n",
      "37/37 [==============================] - 3s 68ms/step - loss: 0.0134 - mse: 3.9298e-04 - val_loss: 0.0170 - val_mse: 4.4937e-04\n",
      "Epoch 31/40\n",
      "37/37 [==============================] - 3s 70ms/step - loss: 0.0136 - mse: 3.8941e-04 - val_loss: 0.0205 - val_mse: 5.9822e-04\n",
      "Epoch 32/40\n",
      "37/37 [==============================] - 3s 71ms/step - loss: 0.0149 - mse: 4.4939e-04 - val_loss: 0.0208 - val_mse: 6.5686e-04\n",
      "Epoch 33/40\n",
      "37/37 [==============================] - 2s 67ms/step - loss: 0.0144 - mse: 4.0428e-04 - val_loss: 0.0167 - val_mse: 4.2220e-04\n",
      "Epoch 34/40\n",
      "37/37 [==============================] - 2s 67ms/step - loss: 0.0133 - mse: 3.8180e-04 - val_loss: 0.0178 - val_mse: 4.6260e-04\n",
      "Epoch 35/40\n",
      "37/37 [==============================] - 3s 68ms/step - loss: 0.0127 - mse: 3.4434e-04 - val_loss: 0.0165 - val_mse: 4.3480e-04\n",
      "Epoch 36/40\n",
      "37/37 [==============================] - 2s 66ms/step - loss: 0.0144 - mse: 4.1999e-04 - val_loss: 0.0204 - val_mse: 5.9818e-04\n",
      "Epoch 37/40\n",
      "37/37 [==============================] - 2s 67ms/step - loss: 0.0126 - mse: 3.4694e-04 - val_loss: 0.0137 - val_mse: 3.2586e-04\n",
      "Epoch 38/40\n",
      "37/37 [==============================] - 2s 65ms/step - loss: 0.0121 - mse: 3.3439e-04 - val_loss: 0.0280 - val_mse: 0.0010\n",
      "Epoch 39/40\n",
      "37/37 [==============================] - 2s 65ms/step - loss: 0.0133 - mse: 3.7553e-04 - val_loss: 0.0146 - val_mse: 3.2303e-04\n",
      "Epoch 40/40\n",
      "37/37 [==============================] - 2s 64ms/step - loss: 0.0147 - mse: 4.2829e-04 - val_loss: 0.0233 - val_mse: 7.5468e-04\n"
     ]
    }
   ],
   "source": [
    "\n",
    "# Create Random seed\n",
    "tf.random.set_seed(42)\n",
    "\n",
    "# Create 4th Model\n",
    "model_RNN = tf.keras.Sequential([\n",
    "    tf.keras.layers.InputLayer(input_shape=(X_train.shape[1],1)),\n",
    "    #tf.keras.layers.Dense(196,activation='relu',input_shape=(X_train.shape[1],1)),\n",
    "    tf.keras.layers.SimpleRNN(60,activation='relu'),\n",
    "    tf.keras.layers.Dense(1)\n",
    "])\n",
    "\n",
    "\n",
    "\n",
    "# Compile the model\n",
    "model_RNN.compile(loss=tf.keras.losses.mae,\n",
    "                   optimizer=tf.keras.optimizers.Adam(learning_rate=opt_lr),\n",
    "                   metrics=['mse'])\n",
    "\n",
    "# Model summary\n",
    "\n",
    "history_model_RNN = model_RNN.fit(X_train,y_train,epochs=40,validation_data=(X_val,y_val))"
   ]
  },
  {
   "cell_type": "code",
   "execution_count": 64,
   "id": "70eb0721-b0a8-4c8d-8ce5-595582d7da58",
   "metadata": {},
   "outputs": [
    {
     "data": {
      "text/plain": [
       "<AxesSubplot:title={'center':'Model Trained with optimal parameters'}>"
      ]
     },
     "execution_count": 64,
     "metadata": {},
     "output_type": "execute_result"
    },
    {
     "data": {
      "image/png": "[encoded data removed]",
      "text/plain": [
       "<Figure size 432x288 with 1 Axes>"
      ]
     },
     "metadata": {
      "needs_background": "light"
     },
     "output_type": "display_data"
    }
   ],
   "source": [
    "pd.DataFrame(history_model_RNN.history).plot(title='Model Trained with optimal parameters')\n"
   ]
  },
  {
   "cell_type": "code",
   "execution_count": 65,
   "id": "e10cbc6e-3508-4c13-802f-259f1d56e22c",
   "metadata": {},
   "outputs": [],
   "source": [
    "y_pred_train = model_RNN.predict(X_train)\n",
    "y_pred_test = model_RNN.predict(X_test)"
   ]
  },
  {
   "cell_type": "code",
   "execution_count": 66,
   "id": "cd2aa619-42f8-40e1-b76b-827c9e2a6664",
   "metadata": {},
   "outputs": [
    {
     "data": {
      "text/html": [
       "<div>\n",
       "<style scoped>\n",
       "    .dataframe tbody tr th:only-of-type {\n",
       "        vertical-align: middle;\n",
       "    }\n",
       "\n",
       "    .dataframe tbody tr th {\n",
       "        vertical-align: top;\n",
       "    }\n",
       "\n",
       "    .dataframe thead th {\n",
       "        text-align: right;\n",
       "    }\n",
       "</style>\n",
       "<table border=\"1\" class=\"dataframe\">\n",
       "  <thead>\n",
       "    <tr style=\"text-align: right;\">\n",
       "      <th></th>\n",
       "      <th>Method</th>\n",
       "      <th>MAPE</th>\n",
       "      <th>RMSE</th>\n",
       "    </tr>\n",
       "  </thead>\n",
       "  <tbody>\n",
       "    <tr>\n",
       "      <th>0</th>\n",
       "      <td>Simple RNN Model Train</td>\n",
       "      <td>0.0204</td>\n",
       "      <td>0.0186</td>\n",
       "    </tr>\n",
       "    <tr>\n",
       "      <th>0</th>\n",
       "      <td>Simple RNN Model Test</td>\n",
       "      <td>0.1117</td>\n",
       "      <td>0.0160</td>\n",
       "    </tr>\n",
       "  </tbody>\n",
       "</table>\n",
       "</div>"
      ],
      "text/plain": [
       "                   Method    MAPE    RMSE\n",
       "0  Simple RNN Model Train  0.0204  0.0186\n",
       "0   Simple RNN Model Test  0.1117  0.0160"
      ]
     },
     "execution_count": 66,
     "metadata": {},
     "output_type": "execute_result"
    }
   ],
   "source": [
    "# Calculate RMSE and MSE\n",
    "from sklearn.metrics import mean_squared_error\n",
    "\n",
    "rmse=np.sqrt(mean_squared_error(y_train,y_pred_train)).round(4)\n",
    "mape=np.round(np.mean(np.abs(y_train-y_pred_train)/len(y_train))*100,4)\n",
    "\n",
    "results_dabur = pd.DataFrame({\"Method\":['Simple RNN Model Train'],'MAPE':[mape],'RMSE':[rmse]})\n",
    "results_dabur\n",
    "\n",
    "rmse=np.sqrt(mean_squared_error(y_test,y_pred_test)).round(4)\n",
    "mape=np.round(np.mean(np.abs(y_test-y_pred_test)/len(y_test))*100,4)\n",
    "\n",
    "results2 = pd.DataFrame({\"Method\":['Simple RNN Model Test'],'MAPE':[mape],'RMSE':[rmse]})\n",
    "results = pd.concat([results_dabur,results2],axis=0)\n",
    "results"
   ]
  },
  {
   "cell_type": "markdown",
   "id": "f8b47db8-3d10-42e3-ad22-677818ff90b9",
   "metadata": {},
   "source": [
    "## Maruti"
   ]
  },
  {
   "cell_type": "code",
   "execution_count": 67,
   "id": "b3520bf3-2db9-46f1-991f-c82f027ea361",
   "metadata": {},
   "outputs": [
    {
     "data": {
      "text/html": [
       "<div>\n",
       "<style scoped>\n",
       "    .dataframe tbody tr th:only-of-type {\n",
       "        vertical-align: middle;\n",
       "    }\n",
       "\n",
       "    .dataframe tbody tr th {\n",
       "        vertical-align: top;\n",
       "    }\n",
       "\n",
       "    .dataframe thead th {\n",
       "        text-align: right;\n",
       "    }\n",
       "</style>\n",
       "<table border=\"1\" class=\"dataframe\">\n",
       "  <thead>\n",
       "    <tr style=\"text-align: right;\">\n",
       "      <th></th>\n",
       "      <th>Date</th>\n",
       "      <th>FibonacciLevels</th>\n",
       "      <th>PBDT</th>\n",
       "      <th>RSI</th>\n",
       "      <th>macd</th>\n",
       "      <th>Volume</th>\n",
       "      <th>EPS (Rs)</th>\n",
       "      <th>CI</th>\n",
       "    </tr>\n",
       "  </thead>\n",
       "  <tbody>\n",
       "    <tr>\n",
       "      <th>0</th>\n",
       "      <td>2016-01-01</td>\n",
       "      <td>4379.951124</td>\n",
       "      <td>1308.8</td>\n",
       "      <td>54.508074</td>\n",
       "      <td>16.100488</td>\n",
       "      <td>243597</td>\n",
       "      <td>57.84</td>\n",
       "      <td>59.565059</td>\n",
       "    </tr>\n",
       "    <tr>\n",
       "      <th>1</th>\n",
       "      <td>2016-01-04</td>\n",
       "      <td>4369.630461</td>\n",
       "      <td>1308.8</td>\n",
       "      <td>48.308730</td>\n",
       "      <td>12.228003</td>\n",
       "      <td>405501</td>\n",
       "      <td>57.84</td>\n",
       "      <td>77.614801</td>\n",
       "    </tr>\n",
       "    <tr>\n",
       "      <th>2</th>\n",
       "      <td>2016-01-05</td>\n",
       "      <td>4316.851326</td>\n",
       "      <td>1308.8</td>\n",
       "      <td>46.946990</td>\n",
       "      <td>8.029225</td>\n",
       "      <td>509285</td>\n",
       "      <td>57.84</td>\n",
       "      <td>74.917170</td>\n",
       "    </tr>\n",
       "    <tr>\n",
       "      <th>3</th>\n",
       "      <td>2016-01-06</td>\n",
       "      <td>4309.578382</td>\n",
       "      <td>1308.8</td>\n",
       "      <td>39.421521</td>\n",
       "      <td>-1.800329</td>\n",
       "      <td>593742</td>\n",
       "      <td>57.84</td>\n",
       "      <td>55.815378</td>\n",
       "    </tr>\n",
       "    <tr>\n",
       "      <th>4</th>\n",
       "      <td>2016-01-07</td>\n",
       "      <td>4175.121957</td>\n",
       "      <td>1308.8</td>\n",
       "      <td>27.633197</td>\n",
       "      <td>-25.416438</td>\n",
       "      <td>1200069</td>\n",
       "      <td>57.84</td>\n",
       "      <td>30.485256</td>\n",
       "    </tr>\n",
       "  </tbody>\n",
       "</table>\n",
       "</div>"
      ],
      "text/plain": [
       "         Date  FibonacciLevels    PBDT        RSI       macd   Volume  \\\n",
       "0  2016-01-01      4379.951124  1308.8  54.508074  16.100488   243597   \n",
       "1  2016-01-04      4369.630461  1308.8  48.308730  12.228003   405501   \n",
       "2  2016-01-05      4316.851326  1308.8  46.946990   8.029225   509285   \n",
       "3  2016-01-06      4309.578382  1308.8  39.421521  -1.800329   593742   \n",
       "4  2016-01-07      4175.121957  1308.8  27.633197 -25.416438  1200069   \n",
       "\n",
       "   EPS (Rs)         CI  \n",
       "0     57.84  59.565059  \n",
       "1     57.84  77.614801  \n",
       "2     57.84  74.917170  \n",
       "3     57.84  55.815378  \n",
       "4     57.84  30.485256  "
      ]
     },
     "execution_count": 67,
     "metadata": {},
     "output_type": "execute_result"
    }
   ],
   "source": [
    "# Read Data \n",
    "maruti = pd.read_csv(DATA_HOME+'\\\\maruti\\\\maruti_expsetup2.csv')\n",
    "maruti.head()"
   ]
  },
  {
   "cell_type": "code",
   "execution_count": 68,
   "id": "c4549f84-b7ec-4055-95f1-eeb7776d124c",
   "metadata": {},
   "outputs": [],
   "source": [
    "maruti['Date'] = pd.to_datetime(maruti['Date'],format='%Y-%m-%d')\n",
    "maruti = maruti.set_index('Date')\n",
    "\n",
    "\n",
    "\n",
    "scaler_maruti = MinMaxScaler()\n",
    "maruti_norm = scaler_maruti.fit_transform(maruti)\n",
    "\n",
    "maruti_df = pd.DataFrame(maruti_norm,columns=maruti.columns,index=maruti.index)\n",
    "\n",
    "\n",
    "maruti_train =maruti_df['2016-01-01':'2021-05-31']\n",
    "maruti_val =maruti_df['2021-07-01':'2021-09-30']\n",
    "maruti_test =maruti_df['2021-10-01':]\n",
    "\n",
    "\n",
    "X_train,y_train = XY_split(maruti_train,timestep=28)\n",
    "X_val,y_val=XY_split(maruti_val,timestep=28)\n",
    "X_test,y_test=XY_split(maruti_test,timestep=28)\n",
    "\n",
    "\n",
    "n,m,k =X_train.shape\n",
    "X_train = X_train.reshape(n,m*k)\n",
    "y_train=y_train[:,0]\n",
    "\n",
    "n,m,k =X_val.shape\n",
    "X_val = X_val.reshape(n,m*k)\n",
    "y_val=y_val[:,0]\n",
    "\n",
    "n,m,k =X_test.shape\n",
    "X_test = X_test.reshape(n,m*k)\n",
    "y_test=y_test[:,0]"
   ]
  },
  {
   "cell_type": "code",
   "execution_count": 69,
   "id": "3efa492d-dd43-4275-8518-9e0656860597",
   "metadata": {},
   "outputs": [
    {
     "name": "stdout",
     "output_type": "stream",
     "text": [
      "Epoch 1/40\n",
      "41/41 [==============================] - 5s 74ms/step - loss: 0.4663 - mse: 0.2911 - val_loss: 0.1293 - val_mse: 0.0174\n",
      "Epoch 2/40\n",
      "41/41 [==============================] - 2s 60ms/step - loss: 0.1742 - mse: 0.0490 - val_loss: 0.1871 - val_mse: 0.0357\n",
      "Epoch 3/40\n",
      "41/41 [==============================] - 3s 62ms/step - loss: 0.1565 - mse: 0.0413 - val_loss: 0.1262 - val_mse: 0.0165\n",
      "Epoch 4/40\n",
      "41/41 [==============================] - 2s 57ms/step - loss: 0.1281 - mse: 0.0286 - val_loss: 0.1115 - val_mse: 0.0134\n",
      "Epoch 5/40\n",
      "41/41 [==============================] - 3s 63ms/step - loss: 0.0705 - mse: 0.0087 - val_loss: 0.0460 - val_mse: 0.0029\n",
      "Epoch 6/40\n",
      "41/41 [==============================] - 3s 62ms/step - loss: 0.0419 - mse: 0.0033 - val_loss: 0.0218 - val_mse: 0.0012\n",
      "Epoch 7/40\n",
      "41/41 [==============================] - 3s 61ms/step - loss: 0.0308 - mse: 0.0017 - val_loss: 0.0212 - val_mse: 0.0011\n",
      "Epoch 8/40\n",
      "41/41 [==============================] - 2s 59ms/step - loss: 0.0244 - mse: 0.0011 - val_loss: 0.0203 - val_mse: 7.0556e-04\n",
      "Epoch 9/40\n",
      "41/41 [==============================] - 3s 72ms/step - loss: 0.0219 - mse: 8.8525e-04 - val_loss: 0.0263 - val_mse: 9.5944e-04\n",
      "Epoch 10/40\n",
      "41/41 [==============================] - 3s 68ms/step - loss: 0.0206 - mse: 7.9438e-04 - val_loss: 0.0152 - val_mse: 6.7856e-04\n",
      "Epoch 11/40\n",
      "41/41 [==============================] - 3s 68ms/step - loss: 0.0187 - mse: 6.4828e-04 - val_loss: 0.0146 - val_mse: 6.6213e-04\n",
      "Epoch 12/40\n",
      "41/41 [==============================] - 3s 71ms/step - loss: 0.0185 - mse: 6.0539e-04 - val_loss: 0.0145 - val_mse: 6.0971e-04\n",
      "Epoch 13/40\n",
      "41/41 [==============================] - 3s 67ms/step - loss: 0.0175 - mse: 5.4996e-04 - val_loss: 0.0163 - val_mse: 5.6635e-04\n",
      "Epoch 14/40\n",
      "41/41 [==============================] - 3s 64ms/step - loss: 0.0173 - mse: 5.3093e-04 - val_loss: 0.0165 - val_mse: 5.8459e-04\n",
      "Epoch 15/40\n",
      "41/41 [==============================] - 3s 63ms/step - loss: 0.0162 - mse: 4.9823e-04 - val_loss: 0.0208 - val_mse: 6.9606e-04\n",
      "Epoch 16/40\n",
      "41/41 [==============================] - 3s 63ms/step - loss: 0.0155 - mse: 4.5059e-04 - val_loss: 0.0155 - val_mse: 5.7328e-04\n",
      "Epoch 17/40\n",
      "41/41 [==============================] - 3s 65ms/step - loss: 0.0178 - mse: 5.5159e-04 - val_loss: 0.0314 - val_mse: 0.0012\n",
      "Epoch 18/40\n",
      "41/41 [==============================] - 3s 64ms/step - loss: 0.0158 - mse: 4.6115e-04 - val_loss: 0.0241 - val_mse: 8.2528e-04\n",
      "Epoch 19/40\n",
      "41/41 [==============================] - 3s 64ms/step - loss: 0.0147 - mse: 4.1389e-04 - val_loss: 0.0175 - val_mse: 6.2601e-04\n",
      "Epoch 20/40\n",
      "41/41 [==============================] - 3s 64ms/step - loss: 0.0143 - mse: 3.9390e-04 - val_loss: 0.0163 - val_mse: 5.4468e-04\n",
      "Epoch 21/40\n",
      "41/41 [==============================] - 3s 63ms/step - loss: 0.0138 - mse: 3.6733e-04 - val_loss: 0.0184 - val_mse: 6.2031e-04\n",
      "Epoch 22/40\n",
      "41/41 [==============================] - 3s 65ms/step - loss: 0.0147 - mse: 4.0686e-04 - val_loss: 0.0186 - val_mse: 6.5621e-04\n",
      "Epoch 23/40\n",
      "41/41 [==============================] - 3s 77ms/step - loss: 0.0157 - mse: 4.4132e-04 - val_loss: 0.0320 - val_mse: 0.0013\n",
      "Epoch 24/40\n",
      "41/41 [==============================] - 3s 68ms/step - loss: 0.0147 - mse: 3.9832e-04 - val_loss: 0.0166 - val_mse: 5.3298e-04\n",
      "Epoch 25/40\n",
      "41/41 [==============================] - 3s 69ms/step - loss: 0.0133 - mse: 3.5360e-04 - val_loss: 0.0186 - val_mse: 6.3486e-04\n",
      "Epoch 26/40\n",
      "41/41 [==============================] - 3s 71ms/step - loss: 0.0141 - mse: 3.7534e-04 - val_loss: 0.0164 - val_mse: 5.5815e-04\n",
      "Epoch 27/40\n",
      "41/41 [==============================] - 3s 74ms/step - loss: 0.0131 - mse: 3.3474e-04 - val_loss: 0.0158 - val_mse: 5.1337e-04\n",
      "Epoch 28/40\n",
      "41/41 [==============================] - 3s 71ms/step - loss: 0.0141 - mse: 3.7866e-04 - val_loss: 0.0153 - val_mse: 5.9716e-04\n",
      "Epoch 29/40\n",
      "41/41 [==============================] - 3s 71ms/step - loss: 0.0161 - mse: 4.5094e-04 - val_loss: 0.0171 - val_mse: 5.6859e-04\n",
      "Epoch 30/40\n",
      "41/41 [==============================] - 3s 64ms/step - loss: 0.0147 - mse: 3.9189e-04 - val_loss: 0.0157 - val_mse: 5.0216e-04\n",
      "Epoch 31/40\n",
      "41/41 [==============================] - 3s 65ms/step - loss: 0.0138 - mse: 3.6577e-04 - val_loss: 0.0200 - val_mse: 6.6938e-04\n",
      "Epoch 32/40\n",
      "41/41 [==============================] - 3s 74ms/step - loss: 0.0133 - mse: 3.3657e-04 - val_loss: 0.0146 - val_mse: 5.0286e-04\n",
      "Epoch 33/40\n",
      "41/41 [==============================] - 3s 67ms/step - loss: 0.0144 - mse: 3.8285e-04 - val_loss: 0.0153 - val_mse: 4.9162e-04\n",
      "Epoch 34/40\n",
      "41/41 [==============================] - 3s 72ms/step - loss: 0.0137 - mse: 3.5850e-04 - val_loss: 0.0145 - val_mse: 4.8896e-04\n",
      "Epoch 35/40\n",
      "41/41 [==============================] - 3s 65ms/step - loss: 0.0157 - mse: 4.4423e-04 - val_loss: 0.0159 - val_mse: 5.3422e-04\n",
      "Epoch 36/40\n",
      "41/41 [==============================] - 3s 64ms/step - loss: 0.0132 - mse: 3.4387e-04 - val_loss: 0.0242 - val_mse: 8.6638e-04\n",
      "Epoch 37/40\n",
      "41/41 [==============================] - 3s 64ms/step - loss: 0.0146 - mse: 3.9274e-04 - val_loss: 0.0138 - val_mse: 4.6976e-04\n",
      "Epoch 38/40\n",
      "41/41 [==============================] - 3s 64ms/step - loss: 0.0135 - mse: 3.5132e-04 - val_loss: 0.0139 - val_mse: 4.9263e-04\n",
      "Epoch 39/40\n",
      "41/41 [==============================] - 3s 71ms/step - loss: 0.0130 - mse: 3.3373e-04 - val_loss: 0.0146 - val_mse: 4.8338e-04\n",
      "Epoch 40/40\n",
      "41/41 [==============================] - 3s 68ms/step - loss: 0.0132 - mse: 3.3283e-04 - val_loss: 0.0192 - val_mse: 6.6099e-04\n"
     ]
    }
   ],
   "source": [
    "# Create Random seed\n",
    "tf.random.set_seed(42)\n",
    "\n",
    "# Create 4th Model\n",
    "model_RNN = tf.keras.Sequential([\n",
    "    tf.keras.layers.InputLayer(input_shape=(X_train.shape[1],1)),\n",
    "    #tf.keras.layers.Dense(196,activation='relu',input_shape=(X_train.shape[1],1)),\n",
    "    tf.keras.layers.SimpleRNN(60,activation='relu'),\n",
    "    tf.keras.layers.Dense(1)\n",
    "])\n",
    "\n",
    "\n",
    "\n",
    "# Compile the model\n",
    "model_RNN.compile(loss=tf.keras.losses.mae,\n",
    "                   optimizer=tf.keras.optimizers.Adam(learning_rate=opt_lr),\n",
    "                   metrics=['mse'])\n",
    "\n",
    "# Model summary\n",
    "\n",
    "history_model_RNN = model_RNN.fit(X_train,y_train,epochs=40,validation_data=(X_val,y_val))"
   ]
  },
  {
   "cell_type": "code",
   "execution_count": 70,
   "id": "8bda253e-e6df-4f25-93cb-1daeb8758869",
   "metadata": {},
   "outputs": [
    {
     "data": {
      "text/plain": [
       "<AxesSubplot:title={'center':'Model Trained with optimal parameters'}>"
      ]
     },
     "execution_count": 70,
     "metadata": {},
     "output_type": "execute_result"
    },
    {
     "data": {
      "image/png": "[encoded data removed]",
      "text/plain": [
       "<Figure size 432x288 with 1 Axes>"
      ]
     },
     "metadata": {
      "needs_background": "light"
     },
     "output_type": "display_data"
    }
   ],
   "source": [
    "pd.DataFrame(history_model_RNN.history).plot(title='Model Trained with optimal parameters')"
   ]
  },
  {
   "cell_type": "code",
   "execution_count": 71,
   "id": "c8daf618-1176-4303-b87a-0e349b50e29d",
   "metadata": {},
   "outputs": [],
   "source": [
    "y_pred_train = model_RNN.predict(X_train)\n",
    "y_pred_test = model_RNN.predict(X_test)"
   ]
  },
  {
   "cell_type": "code",
   "execution_count": 72,
   "id": "c80c793e-b9f4-4b0a-83ea-f633e2375819",
   "metadata": {},
   "outputs": [
    {
     "data": {
      "text/html": [
       "<div>\n",
       "<style scoped>\n",
       "    .dataframe tbody tr th:only-of-type {\n",
       "        vertical-align: middle;\n",
       "    }\n",
       "\n",
       "    .dataframe tbody tr th {\n",
       "        vertical-align: top;\n",
       "    }\n",
       "\n",
       "    .dataframe thead th {\n",
       "        text-align: right;\n",
       "    }\n",
       "</style>\n",
       "<table border=\"1\" class=\"dataframe\">\n",
       "  <thead>\n",
       "    <tr style=\"text-align: right;\">\n",
       "      <th></th>\n",
       "      <th>Method</th>\n",
       "      <th>MAPE</th>\n",
       "      <th>RMSE</th>\n",
       "    </tr>\n",
       "  </thead>\n",
       "  <tbody>\n",
       "    <tr>\n",
       "      <th>0</th>\n",
       "      <td>Simple RNN Model Train</td>\n",
       "      <td>0.0197</td>\n",
       "      <td>0.0181</td>\n",
       "    </tr>\n",
       "    <tr>\n",
       "      <th>0</th>\n",
       "      <td>Simple RNN Model Test</td>\n",
       "      <td>0.5386</td>\n",
       "      <td>0.0400</td>\n",
       "    </tr>\n",
       "  </tbody>\n",
       "</table>\n",
       "</div>"
      ],
      "text/plain": [
       "                   Method    MAPE    RMSE\n",
       "0  Simple RNN Model Train  0.0197  0.0181\n",
       "0   Simple RNN Model Test  0.5386  0.0400"
      ]
     },
     "execution_count": 72,
     "metadata": {},
     "output_type": "execute_result"
    }
   ],
   "source": [
    "# Calculate RMSE and MSE\n",
    "from sklearn.metrics import mean_squared_error\n",
    "\n",
    "rmse=np.sqrt(mean_squared_error(y_train,y_pred_train)).round(4)\n",
    "mape=np.round(np.mean(np.abs(y_train-y_pred_train)/len(y_train))*100,4)\n",
    "\n",
    "results_maruti = pd.DataFrame({\"Method\":['Simple RNN Model Train'],'MAPE':[mape],'RMSE':[rmse]})\n",
    "results_maruti\n",
    "\n",
    "rmse=np.sqrt(mean_squared_error(y_test,y_pred_test)).round(4)\n",
    "mape=np.round(np.mean(np.abs(y_test-y_pred_test)/len(y_test))*100,4)\n",
    "\n",
    "results2 = pd.DataFrame({\"Method\":['Simple RNN Model Test'],'MAPE':[mape],'RMSE':[rmse]})\n",
    "results = pd.concat([results_maruti,results2],axis=0)\n",
    "results"
   ]
  },
  {
   "cell_type": "code",
   "execution_count": 73,
   "id": "ec66feeb-65c5-44f8-b651-e0abe2625a07",
   "metadata": {},
   "outputs": [
    {
     "data": {
      "text/html": [
       "<div>\n",
       "<style scoped>\n",
       "    .dataframe tbody tr th:only-of-type {\n",
       "        vertical-align: middle;\n",
       "    }\n",
       "\n",
       "    .dataframe tbody tr th {\n",
       "        vertical-align: top;\n",
       "    }\n",
       "\n",
       "    .dataframe thead th {\n",
       "        text-align: right;\n",
       "    }\n",
       "</style>\n",
       "<table border=\"1\" class=\"dataframe\">\n",
       "  <thead>\n",
       "    <tr style=\"text-align: right;\">\n",
       "      <th></th>\n",
       "      <th>FibonacciLevels</th>\n",
       "      <th>PBDT</th>\n",
       "      <th>RSI</th>\n",
       "      <th>macd</th>\n",
       "      <th>Volume</th>\n",
       "      <th>EPS (Rs)</th>\n",
       "      <th>CI</th>\n",
       "    </tr>\n",
       "    <tr>\n",
       "      <th>Date</th>\n",
       "      <th></th>\n",
       "      <th></th>\n",
       "      <th></th>\n",
       "      <th></th>\n",
       "      <th></th>\n",
       "      <th></th>\n",
       "      <th></th>\n",
       "    </tr>\n",
       "  </thead>\n",
       "  <tbody>\n",
       "    <tr>\n",
       "      <th>2016-01-01</th>\n",
       "      <td>1085.760138</td>\n",
       "      <td>2021.0</td>\n",
       "      <td>49.977956</td>\n",
       "      <td>3.090838</td>\n",
       "      <td>712262</td>\n",
       "      <td>30.88</td>\n",
       "      <td>51.003901</td>\n",
       "    </tr>\n",
       "    <tr>\n",
       "      <th>2016-01-04</th>\n",
       "      <td>1074.631056</td>\n",
       "      <td>2021.0</td>\n",
       "      <td>42.641751</td>\n",
       "      <td>0.959940</td>\n",
       "      <td>1870184</td>\n",
       "      <td>30.88</td>\n",
       "      <td>61.611077</td>\n",
       "    </tr>\n",
       "    <tr>\n",
       "      <th>2016-01-05</th>\n",
       "      <td>1062.433668</td>\n",
       "      <td>2021.0</td>\n",
       "      <td>39.861366</td>\n",
       "      <td>-1.453821</td>\n",
       "      <td>2678020</td>\n",
       "      <td>30.88</td>\n",
       "      <td>54.688026</td>\n",
       "    </tr>\n",
       "    <tr>\n",
       "      <th>2016-01-06</th>\n",
       "      <td>1062.233305</td>\n",
       "      <td>2021.0</td>\n",
       "      <td>45.871070</td>\n",
       "      <td>-2.168907</td>\n",
       "      <td>2653228</td>\n",
       "      <td>30.88</td>\n",
       "      <td>55.111016</td>\n",
       "    </tr>\n",
       "    <tr>\n",
       "      <th>2016-01-07</th>\n",
       "      <td>1060.786485</td>\n",
       "      <td>2021.0</td>\n",
       "      <td>44.357805</td>\n",
       "      <td>-3.071995</td>\n",
       "      <td>3199580</td>\n",
       "      <td>30.88</td>\n",
       "      <td>55.261932</td>\n",
       "    </tr>\n",
       "  </tbody>\n",
       "</table>\n",
       "</div>"
      ],
      "text/plain": [
       "            FibonacciLevels    PBDT        RSI      macd   Volume  EPS (Rs)  \\\n",
       "Date                                                                          \n",
       "2016-01-01      1085.760138  2021.0  49.977956  3.090838   712262     30.88   \n",
       "2016-01-04      1074.631056  2021.0  42.641751  0.959940  1870184     30.88   \n",
       "2016-01-05      1062.433668  2021.0  39.861366 -1.453821  2678020     30.88   \n",
       "2016-01-06      1062.233305  2021.0  45.871070 -2.168907  2653228     30.88   \n",
       "2016-01-07      1060.786485  2021.0  44.357805 -3.071995  3199580     30.88   \n",
       "\n",
       "                   CI  \n",
       "Date                   \n",
       "2016-01-01  51.003901  \n",
       "2016-01-04  61.611077  \n",
       "2016-01-05  54.688026  \n",
       "2016-01-06  55.111016  \n",
       "2016-01-07  55.261932  "
      ]
     },
     "execution_count": 73,
     "metadata": {},
     "output_type": "execute_result"
    }
   ],
   "source": [
    "# Read Data \n",
    "tcs = pd.read_csv(DATA_HOME+'\\\\tcs\\\\tcs_expsetup2.csv')\n",
    "tcs.head()\n",
    "\n",
    "\n",
    "tcs['Date'] = pd.to_datetime(tcs['Date'],format='%Y-%m-%d')\n",
    "tcs = tcs.set_index('Date')\n",
    "tcs.head()"
   ]
  },
  {
   "cell_type": "code",
   "execution_count": 74,
   "id": "c7551de3-8128-4373-a2a5-84c5f4f2099c",
   "metadata": {},
   "outputs": [],
   "source": [
    "scaler_tcs = MinMaxScaler()\n",
    "tcs_norm = scaler_tcs.fit_transform(tcs)\n",
    "\n",
    "tcs_df = pd.DataFrame(tcs_norm,columns=tcs.columns,index=tcs.index)\n",
    "tcs_df.head()\n",
    "\n",
    "tcs_train =tcs_df['2016-01-01':'2021-05-31']\n",
    "tcs_val =tcs_df['2021-07-01':'2021-09-30']\n",
    "tcs_test =tcs_df['2021-10-01':]\n",
    "\n",
    "\n",
    "X_train,y_train = XY_split(tcs_train,timestep=28)\n",
    "X_val,y_val=XY_split(tcs_val,timestep=28)\n",
    "X_test,y_test=XY_split(tcs_test,timestep=28)\n",
    "\n",
    "\n",
    "n,m,k =X_train.shape\n",
    "X_train = X_train.reshape(n,m*k)\n",
    "y_train=y_train[:,0]\n",
    "\n",
    "n,m,k =X_val.shape\n",
    "X_val = X_val.reshape(n,m*k)\n",
    "y_val=y_val[:,0]\n",
    "\n",
    "n,m,k =X_test.shape\n",
    "X_test = X_test.reshape(n,m*k)\n",
    "y_test=y_test[:,0]\n"
   ]
  },
  {
   "cell_type": "code",
   "execution_count": 75,
   "id": "76aa1507-f6d9-4a07-8c26-b877544abd90",
   "metadata": {},
   "outputs": [
    {
     "name": "stdout",
     "output_type": "stream",
     "text": [
      "Epoch 1/40\n",
      "41/41 [==============================] - 5s 85ms/step - loss: 0.2728 - mse: 0.1158 - val_loss: 0.4632 - val_mse: 0.2171\n",
      "Epoch 2/40\n",
      "41/41 [==============================] - 3s 75ms/step - loss: 0.0876 - mse: 0.0145 - val_loss: 0.3127 - val_mse: 0.0991\n",
      "Epoch 3/40\n",
      "41/41 [==============================] - 3s 73ms/step - loss: 0.0502 - mse: 0.0053 - val_loss: 0.2954 - val_mse: 0.0886\n",
      "Epoch 4/40\n",
      "41/41 [==============================] - 3s 72ms/step - loss: 0.0403 - mse: 0.0032 - val_loss: 0.1523 - val_mse: 0.0241\n",
      "Epoch 5/40\n",
      "41/41 [==============================] - 3s 74ms/step - loss: 0.0333 - mse: 0.0020 - val_loss: 0.1013 - val_mse: 0.0113\n",
      "Epoch 6/40\n",
      "41/41 [==============================] - 3s 69ms/step - loss: 0.0232 - mse: 9.6992e-04 - val_loss: 0.0882 - val_mse: 0.0096\n",
      "Epoch 7/40\n",
      "41/41 [==============================] - 3s 74ms/step - loss: 0.0169 - mse: 5.2488e-04 - val_loss: 0.0871 - val_mse: 0.0099\n",
      "Epoch 8/40\n",
      "41/41 [==============================] - 3s 66ms/step - loss: 0.0146 - mse: 3.9724e-04 - val_loss: 0.0782 - val_mse: 0.0078\n",
      "Epoch 9/40\n",
      "41/41 [==============================] - 3s 70ms/step - loss: 0.0153 - mse: 4.1641e-04 - val_loss: 0.0461 - val_mse: 0.0030\n",
      "Epoch 10/40\n",
      "41/41 [==============================] - 3s 67ms/step - loss: 0.0123 - mse: 3.0266e-04 - val_loss: 0.0558 - val_mse: 0.0043\n",
      "Epoch 11/40\n",
      "41/41 [==============================] - 3s 71ms/step - loss: 0.0140 - mse: 3.6107e-04 - val_loss: 0.0843 - val_mse: 0.0091\n",
      "Epoch 12/40\n",
      "41/41 [==============================] - 3s 65ms/step - loss: 0.0123 - mse: 2.8915e-04 - val_loss: 0.0922 - val_mse: 0.0095\n",
      "Epoch 13/40\n",
      "41/41 [==============================] - 3s 66ms/step - loss: 0.0125 - mse: 3.0136e-04 - val_loss: 0.0523 - val_mse: 0.0044\n",
      "Epoch 14/40\n",
      "41/41 [==============================] - 3s 68ms/step - loss: 0.0107 - mse: 2.4830e-04 - val_loss: 0.0681 - val_mse: 0.0062\n",
      "Epoch 15/40\n",
      "41/41 [==============================] - 3s 67ms/step - loss: 0.0101 - mse: 2.1406e-04 - val_loss: 0.0573 - val_mse: 0.0045\n",
      "Epoch 16/40\n",
      "41/41 [==============================] - 3s 68ms/step - loss: 0.0099 - mse: 2.0894e-04 - val_loss: 0.0844 - val_mse: 0.0090\n",
      "Epoch 17/40\n",
      "41/41 [==============================] - 3s 67ms/step - loss: 0.0099 - mse: 2.1088e-04 - val_loss: 0.0659 - val_mse: 0.0057\n",
      "Epoch 18/40\n",
      "41/41 [==============================] - 3s 77ms/step - loss: 0.0099 - mse: 2.1041e-04 - val_loss: 0.0630 - val_mse: 0.0055\n",
      "Epoch 19/40\n",
      "41/41 [==============================] - 3s 67ms/step - loss: 0.0106 - mse: 2.2993e-04 - val_loss: 0.0734 - val_mse: 0.0068\n",
      "Epoch 20/40\n",
      "41/41 [==============================] - 3s 68ms/step - loss: 0.0092 - mse: 1.8517e-04 - val_loss: 0.0814 - val_mse: 0.0084\n",
      "Epoch 21/40\n",
      "41/41 [==============================] - 3s 65ms/step - loss: 0.0094 - mse: 1.8889e-04 - val_loss: 0.0575 - val_mse: 0.0046\n",
      "Epoch 22/40\n",
      "41/41 [==============================] - 3s 68ms/step - loss: 0.0093 - mse: 1.8877e-04 - val_loss: 0.0808 - val_mse: 0.0081\n",
      "Epoch 23/40\n",
      "41/41 [==============================] - 3s 67ms/step - loss: 0.0093 - mse: 1.8232e-04 - val_loss: 0.0488 - val_mse: 0.0037\n",
      "Epoch 24/40\n",
      "41/41 [==============================] - 3s 68ms/step - loss: 0.0097 - mse: 1.9523e-04 - val_loss: 0.0552 - val_mse: 0.0043\n",
      "Epoch 25/40\n",
      "41/41 [==============================] - 3s 72ms/step - loss: 0.0093 - mse: 1.9048e-04 - val_loss: 0.0900 - val_mse: 0.0094\n",
      "Epoch 26/40\n",
      "41/41 [==============================] - 3s 70ms/step - loss: 0.0094 - mse: 1.8761e-04 - val_loss: 0.0696 - val_mse: 0.0059\n",
      "Epoch 27/40\n",
      "41/41 [==============================] - 3s 67ms/step - loss: 0.0091 - mse: 1.7189e-04 - val_loss: 0.0714 - val_mse: 0.0061\n",
      "Epoch 28/40\n",
      "41/41 [==============================] - 3s 67ms/step - loss: 0.0080 - mse: 1.4561e-04 - val_loss: 0.0817 - val_mse: 0.0082\n",
      "Epoch 29/40\n",
      "41/41 [==============================] - 3s 71ms/step - loss: 0.0090 - mse: 1.6962e-04 - val_loss: 0.0759 - val_mse: 0.0074\n",
      "Epoch 30/40\n",
      "41/41 [==============================] - 3s 67ms/step - loss: 0.0084 - mse: 1.5377e-04 - val_loss: 0.0787 - val_mse: 0.0074\n",
      "Epoch 31/40\n",
      "41/41 [==============================] - 3s 67ms/step - loss: 0.0079 - mse: 1.4431e-04 - val_loss: 0.0607 - val_mse: 0.0051\n",
      "Epoch 32/40\n",
      "41/41 [==============================] - 3s 66ms/step - loss: 0.0083 - mse: 1.5554e-04 - val_loss: 0.0582 - val_mse: 0.0047\n",
      "Epoch 33/40\n",
      "41/41 [==============================] - 3s 69ms/step - loss: 0.0094 - mse: 1.7717e-04 - val_loss: 0.0676 - val_mse: 0.0059\n",
      "Epoch 34/40\n",
      "41/41 [==============================] - 3s 70ms/step - loss: 0.0093 - mse: 1.7924e-04 - val_loss: 0.0736 - val_mse: 0.0072\n",
      "Epoch 35/40\n",
      "41/41 [==============================] - 3s 67ms/step - loss: 0.0092 - mse: 1.6699e-04 - val_loss: 0.0658 - val_mse: 0.0056\n",
      "Epoch 36/40\n",
      "41/41 [==============================] - 3s 69ms/step - loss: 0.0083 - mse: 1.4841e-04 - val_loss: 0.0746 - val_mse: 0.0070\n",
      "Epoch 37/40\n",
      "41/41 [==============================] - 3s 67ms/step - loss: 0.0084 - mse: 1.4734e-04 - val_loss: 0.0777 - val_mse: 0.0069\n",
      "Epoch 38/40\n",
      "41/41 [==============================] - 3s 66ms/step - loss: 0.0094 - mse: 1.7146e-04 - val_loss: 0.0679 - val_mse: 0.0057\n",
      "Epoch 39/40\n",
      "41/41 [==============================] - 3s 66ms/step - loss: 0.0100 - mse: 1.9251e-04 - val_loss: 0.0770 - val_mse: 0.0069\n",
      "Epoch 40/40\n",
      "41/41 [==============================] - 3s 66ms/step - loss: 0.0078 - mse: 1.3440e-04 - val_loss: 0.0816 - val_mse: 0.0077\n"
     ]
    }
   ],
   "source": [
    "# Create Random seed\n",
    "tf.random.set_seed(42)\n",
    "\n",
    "# Create 4th Model\n",
    "model_RNN = tf.keras.Sequential([\n",
    "    tf.keras.layers.InputLayer(input_shape=(X_train.shape[1],1)),\n",
    "    #tf.keras.layers.Dense(196,activation='relu',input_shape=(X_train.shape[1],1)),\n",
    "    tf.keras.layers.SimpleRNN(60,activation='relu'),\n",
    "    tf.keras.layers.Dense(1)\n",
    "])\n",
    "\n",
    "\n",
    "\n",
    "# Compile the model\n",
    "model_RNN.compile(loss=tf.keras.losses.mae,\n",
    "                   optimizer=tf.keras.optimizers.Adam(learning_rate=opt_lr),\n",
    "                   metrics=['mse'])\n",
    "\n",
    "# Model summary\n",
    "\n",
    "history_model_RNN = model_RNN.fit(X_train,y_train,epochs=40,validation_data=(X_val,y_val))"
   ]
  },
  {
   "cell_type": "code",
   "execution_count": 76,
   "id": "863bcb75-0ef9-4c75-9871-c7f574e9552b",
   "metadata": {},
   "outputs": [
    {
     "data": {
      "text/plain": [
       "<AxesSubplot:title={'center':'Model Trained with optimal parameters'}>"
      ]
     },
     "execution_count": 76,
     "metadata": {},
     "output_type": "execute_result"
    },
    {
     "data": {
      "image/png": "[encoded data removed]",
      "text/plain": [
       "<Figure size 432x288 with 1 Axes>"
      ]
     },
     "metadata": {
      "needs_background": "light"
     },
     "output_type": "display_data"
    }
   ],
   "source": [
    "pd.DataFrame(history_model_RNN.history).plot(title='Model Trained with optimal parameters')"
   ]
  },
  {
   "cell_type": "code",
   "execution_count": 77,
   "id": "ba9bac7d-1c81-41b9-ac82-c72d13f43c49",
   "metadata": {},
   "outputs": [],
   "source": [
    "y_pred_train = model_RNN.predict(X_train)\n",
    "y_pred_test = model_RNN.predict(X_test)"
   ]
  },
  {
   "cell_type": "code",
   "execution_count": 78,
   "id": "2ceb628e-c0a1-431f-8fe9-2efea42407ce",
   "metadata": {},
   "outputs": [
    {
     "data": {
      "text/html": [
       "<div>\n",
       "<style scoped>\n",
       "    .dataframe tbody tr th:only-of-type {\n",
       "        vertical-align: middle;\n",
       "    }\n",
       "\n",
       "    .dataframe tbody tr th {\n",
       "        vertical-align: top;\n",
       "    }\n",
       "\n",
       "    .dataframe thead th {\n",
       "        text-align: right;\n",
       "    }\n",
       "</style>\n",
       "<table border=\"1\" class=\"dataframe\">\n",
       "  <thead>\n",
       "    <tr style=\"text-align: right;\">\n",
       "      <th></th>\n",
       "      <th>Method</th>\n",
       "      <th>MAPE</th>\n",
       "      <th>RMSE</th>\n",
       "    </tr>\n",
       "  </thead>\n",
       "  <tbody>\n",
       "    <tr>\n",
       "      <th>0</th>\n",
       "      <td>Simple RNN Model Train</td>\n",
       "      <td>0.0168</td>\n",
       "      <td>0.0119</td>\n",
       "    </tr>\n",
       "    <tr>\n",
       "      <th>0</th>\n",
       "      <td>Simple RNN Model Test</td>\n",
       "      <td>0.6121</td>\n",
       "      <td>0.0715</td>\n",
       "    </tr>\n",
       "  </tbody>\n",
       "</table>\n",
       "</div>"
      ],
      "text/plain": [
       "                   Method    MAPE    RMSE\n",
       "0  Simple RNN Model Train  0.0168  0.0119\n",
       "0   Simple RNN Model Test  0.6121  0.0715"
      ]
     },
     "execution_count": 78,
     "metadata": {},
     "output_type": "execute_result"
    }
   ],
   "source": [
    "rmse=np.sqrt(mean_squared_error(y_train,y_pred_train)).round(4)\n",
    "mape=np.round(np.mean(np.abs(y_train-y_pred_train)/len(y_train))*100,4)\n",
    "\n",
    "results_tcs = pd.DataFrame({\"Method\":['Simple RNN Model Train'],'MAPE':[mape],'RMSE':[rmse]})\n",
    "results_tcs\n",
    "\n",
    "rmse=np.sqrt(mean_squared_error(y_test,y_pred_test)).round(4)\n",
    "mape=np.round(np.mean(np.abs(y_test-y_pred_test)/len(y_test))*100,4)\n",
    "\n",
    "results2 = pd.DataFrame({\"Method\":['Simple RNN Model Test'],'MAPE':[mape],'RMSE':[rmse]})\n",
    "results = pd.concat([results_tcs,results2],axis=0)\n",
    "results"
   ]
  },
  {
   "cell_type": "code",
   "execution_count": null,
   "id": "a4fcc206-7f02-46b8-adbb-76f0431071e2",
   "metadata": {},
   "outputs": [],
   "source": []
  }
 ],
 "metadata": {
  "kernelspec": {
   "display_name": "Python 3 (ipykernel)",
   "language": "python",
   "name": "python3"
  },
  "language_info": {
   "codemirror_mode": {
    "name": "ipython",
    "version": 3
   },
   "file_extension": ".py",
   "mimetype": "text/x-python",
   "name": "python",
   "nbconvert_exporter": "python",
   "pygments_lexer": "ipython3",
   "version": "3.10.0"
  }
 },
 "nbformat": 4,
 "nbformat_minor": 5
}
